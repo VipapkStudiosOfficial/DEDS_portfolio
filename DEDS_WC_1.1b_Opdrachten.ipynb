{
 "cells": [
  {
   "cell_type": "markdown",
   "metadata": {},
   "source": [
    "# Werkcollege-opdrachten Week 1.2"
   ]
  },
  {
   "cell_type": "markdown",
   "metadata": {},
   "source": [
    "## Voorbereiding"
   ]
  },
  {
   "cell_type": "markdown",
   "metadata": {},
   "source": [
    "Importeer in het codeblok hieronder de packages die worden gebruikt om data in te lezen. Geef er ook de gebruikelijke aliassen aan.<br>\n",
    "N.B.: de 2 reeds geschreven coderegels zorgen ervoor dat eventuele warnings, die code-outputs lelijker maken, uitgezet worden."
   ]
  },
  {
   "cell_type": "code",
   "execution_count": 5,
   "metadata": {},
   "outputs": [],
   "source": [
    "\n",
    "import warnings\n",
    "warnings.simplefilter('ignore')"
   ]
  },
  {
   "cell_type": "markdown",
   "metadata": {},
   "source": [
    "Zet de volgende bestanden in een makkelijk terug te vinden map:\n",
    "- go_sales_train.sqlite\n",
    "- go_crm_train.sqlite\n",
    "- go_staff_train.sqlite"
   ]
  },
  {
   "cell_type": "markdown",
   "metadata": {},
   "source": [
    "Bestudeer de bovenste 3 bestanden in DB Browser (SQLite), <a href=\"https://sqlitebrowser.org/dl/\">hier</a> te downloaden. Wat valt je op qua datatypen?<br>"
   ]
  },
  {
   "cell_type": "markdown",
   "metadata": {},
   "source": [
    "## Databasetabel inlezen"
   ]
  },
  {
   "cell_type": "markdown",
   "metadata": {},
   "source": [
    "Creëer een databaseconnectie met het bestand go_sales_train.sqlite."
   ]
  },
  {
   "cell_type": "code",
   "execution_count": 6,
   "metadata": {},
   "outputs": [
    {
     "data": {
      "text/plain": [
       "<sqlite3.Connection at 0x1e246192980>"
      ]
     },
     "execution_count": 6,
     "metadata": {},
     "output_type": "execute_result"
    }
   ],
   "source": [
    "import pandas as pd\n",
    "import sqlite3\n",
    "\n",
    "sales_conn = sqlite3.connect('sqlite/go_sales_train.sqlite')\n",
    "sales_conn"
   ]
  },
  {
   "cell_type": "markdown",
   "metadata": {},
   "source": [
    "<b>Let goed op:</b><br>\n",
    "Als je per ongeluk een verkeerde bestandsnaam ingeeft, maakt Python zélf een leeg databasebestand aan! Er ontstaat dan dus een nieuwe .sqlite, en dat is nadrukkelijk <u>niet de bedoeling.</u>"
   ]
  },
  {
   "cell_type": "markdown",
   "metadata": {},
   "source": [
    "Gebruik de onderstaande sql_query om te achterhalen welke databasetabellen in go_sales_train zitten."
   ]
  },
  {
   "cell_type": "code",
   "execution_count": 7,
   "metadata": {},
   "outputs": [
    {
     "data": {
      "text/html": [
       "<div>\n",
       "<style scoped>\n",
       "    .dataframe tbody tr th:only-of-type {\n",
       "        vertical-align: middle;\n",
       "    }\n",
       "\n",
       "    .dataframe tbody tr th {\n",
       "        vertical-align: top;\n",
       "    }\n",
       "\n",
       "    .dataframe thead th {\n",
       "        text-align: right;\n",
       "    }\n",
       "</style>\n",
       "<table border=\"1\" class=\"dataframe\">\n",
       "  <thead>\n",
       "    <tr style=\"text-align: right;\">\n",
       "      <th></th>\n",
       "      <th>name</th>\n",
       "    </tr>\n",
       "  </thead>\n",
       "  <tbody>\n",
       "    <tr>\n",
       "      <th>0</th>\n",
       "      <td>country</td>\n",
       "    </tr>\n",
       "    <tr>\n",
       "      <th>1</th>\n",
       "      <td>order_details</td>\n",
       "    </tr>\n",
       "    <tr>\n",
       "      <th>2</th>\n",
       "      <td>order_header</td>\n",
       "    </tr>\n",
       "    <tr>\n",
       "      <th>3</th>\n",
       "      <td>order_method</td>\n",
       "    </tr>\n",
       "    <tr>\n",
       "      <th>4</th>\n",
       "      <td>product</td>\n",
       "    </tr>\n",
       "    <tr>\n",
       "      <th>5</th>\n",
       "      <td>product_line</td>\n",
       "    </tr>\n",
       "    <tr>\n",
       "      <th>6</th>\n",
       "      <td>product_type</td>\n",
       "    </tr>\n",
       "    <tr>\n",
       "      <th>7</th>\n",
       "      <td>retailer_site</td>\n",
       "    </tr>\n",
       "    <tr>\n",
       "      <th>8</th>\n",
       "      <td>return_reason</td>\n",
       "    </tr>\n",
       "    <tr>\n",
       "      <th>9</th>\n",
       "      <td>returned_item</td>\n",
       "    </tr>\n",
       "    <tr>\n",
       "      <th>10</th>\n",
       "      <td>sales_branch</td>\n",
       "    </tr>\n",
       "    <tr>\n",
       "      <th>11</th>\n",
       "      <td>sales_staff</td>\n",
       "    </tr>\n",
       "  </tbody>\n",
       "</table>\n",
       "</div>"
      ],
      "text/plain": [
       "             name\n",
       "0         country\n",
       "1   order_details\n",
       "2    order_header\n",
       "3    order_method\n",
       "4         product\n",
       "5    product_line\n",
       "6    product_type\n",
       "7   retailer_site\n",
       "8   return_reason\n",
       "9   returned_item\n",
       "10   sales_branch\n",
       "11    sales_staff"
      ]
     },
     "execution_count": 7,
     "metadata": {},
     "output_type": "execute_result"
    }
   ],
   "source": [
    "sql_query = \"SELECT name FROM sqlite_master WHERE type='table';\"\n",
    "#Vul dit codeblok verder in\n",
    "sales_conn = sqlite3.connect('sqlite/go_sales_train.sqlite')\n",
    "sales_query = pd.read_sql(sql_query, sales_conn)\n",
    "sales_query"
   ]
  },
  {
   "cell_type": "markdown",
   "metadata": {},
   "source": [
    "Krijg je lege output? Dan heb je per ongeluk een leeg  databasebestand (.sqlite) aangemaakt.<br>\n",
    "Lees de informatie onder het kopje <u>Let goed op:</u> hierboven nog eens goed door."
   ]
  },
  {
   "cell_type": "markdown",
   "metadata": {},
   "source": [
    "Gebruik de gecreëerde databaseconnectie om de resultaten van de volgende query in een DataFrame te zetten:<br>\n",
    "*SELECT * FROM sales_staff* "
   ]
  },
  {
   "cell_type": "code",
   "execution_count": 8,
   "metadata": {},
   "outputs": [
    {
     "data": {
      "text/html": [
       "<div>\n",
       "<style scoped>\n",
       "    .dataframe tbody tr th:only-of-type {\n",
       "        vertical-align: middle;\n",
       "    }\n",
       "\n",
       "    .dataframe tbody tr th {\n",
       "        vertical-align: top;\n",
       "    }\n",
       "\n",
       "    .dataframe thead th {\n",
       "        text-align: right;\n",
       "    }\n",
       "</style>\n",
       "<table border=\"1\" class=\"dataframe\">\n",
       "  <thead>\n",
       "    <tr style=\"text-align: right;\">\n",
       "      <th></th>\n",
       "      <th>SALES_STAFF_CODE</th>\n",
       "      <th>FIRST_NAME</th>\n",
       "      <th>LAST_NAME</th>\n",
       "      <th>POSITION_EN</th>\n",
       "      <th>WORK_PHONE</th>\n",
       "      <th>EXTENSION</th>\n",
       "      <th>FAX</th>\n",
       "      <th>EMAIL</th>\n",
       "      <th>DATE_HIRED</th>\n",
       "      <th>SALES_BRANCH_CODE</th>\n",
       "    </tr>\n",
       "  </thead>\n",
       "  <tbody>\n",
       "    <tr>\n",
       "      <th>0</th>\n",
       "      <td>4</td>\n",
       "      <td>Denis</td>\n",
       "      <td>Pagé</td>\n",
       "      <td>Branch Manager</td>\n",
       "      <td>+33 1 68 94 52 20</td>\n",
       "      <td>325.0</td>\n",
       "      <td>+33 1 68 94 56 60</td>\n",
       "      <td>DPage@grtd123.com</td>\n",
       "      <td>1996-11-03</td>\n",
       "      <td>6</td>\n",
       "    </tr>\n",
       "    <tr>\n",
       "      <th>1</th>\n",
       "      <td>5</td>\n",
       "      <td>Élizabeth</td>\n",
       "      <td>Michel</td>\n",
       "      <td>Level 3 Sales Representative</td>\n",
       "      <td>+33 1 68 94 52 20</td>\n",
       "      <td>336.0</td>\n",
       "      <td>+33 1 68 94 56 60</td>\n",
       "      <td>EMichel@grtd123.com</td>\n",
       "      <td>1995-06-08</td>\n",
       "      <td>6</td>\n",
       "    </tr>\n",
       "    <tr>\n",
       "      <th>2</th>\n",
       "      <td>6</td>\n",
       "      <td>Émile</td>\n",
       "      <td>Clermont</td>\n",
       "      <td>Level 1 Sales Representative</td>\n",
       "      <td>+33 1 68 94 52 20</td>\n",
       "      <td>378.0</td>\n",
       "      <td>+33 1 68 94 56 60</td>\n",
       "      <td>EClermont@grtd123.com</td>\n",
       "      <td>1998-04-07</td>\n",
       "      <td>6</td>\n",
       "    </tr>\n",
       "    <tr>\n",
       "      <th>3</th>\n",
       "      <td>7</td>\n",
       "      <td>Étienne</td>\n",
       "      <td>Jauvin</td>\n",
       "      <td>Level 2 Sales Representative</td>\n",
       "      <td>+33 1 68 94 52 20</td>\n",
       "      <td>398.0</td>\n",
       "      <td>+33 1 68 94 56 60</td>\n",
       "      <td>EJauvin@grtd123.com</td>\n",
       "      <td>1997-08-16</td>\n",
       "      <td>6</td>\n",
       "    </tr>\n",
       "    <tr>\n",
       "      <th>4</th>\n",
       "      <td>12</td>\n",
       "      <td>Elsbeth</td>\n",
       "      <td>Wiesinger</td>\n",
       "      <td>Level 2 Sales Representative</td>\n",
       "      <td>+(49) 40 663 1990</td>\n",
       "      <td>1818.0</td>\n",
       "      <td>+(49) 40 663 4571</td>\n",
       "      <td>EWiesinger@grtd123.com</td>\n",
       "      <td>1997-02-27</td>\n",
       "      <td>13</td>\n",
       "    </tr>\n",
       "    <tr>\n",
       "      <th>...</th>\n",
       "      <td>...</td>\n",
       "      <td>...</td>\n",
       "      <td>...</td>\n",
       "      <td>...</td>\n",
       "      <td>...</td>\n",
       "      <td>...</td>\n",
       "      <td>...</td>\n",
       "      <td>...</td>\n",
       "      <td>...</td>\n",
       "      <td>...</td>\n",
       "    </tr>\n",
       "    <tr>\n",
       "      <th>97</th>\n",
       "      <td>120</td>\n",
       "      <td>Giele</td>\n",
       "      <td>Laermans</td>\n",
       "      <td>Level 1 Sales Representative</td>\n",
       "      <td>+32 16 20.73.21</td>\n",
       "      <td>1340.0</td>\n",
       "      <td>+32 16 20.73.32</td>\n",
       "      <td>GLaermans@grtd123.com</td>\n",
       "      <td>1999-11-15</td>\n",
       "      <td>38</td>\n",
       "    </tr>\n",
       "    <tr>\n",
       "      <th>98</th>\n",
       "      <td>121</td>\n",
       "      <td>François</td>\n",
       "      <td>De Crée</td>\n",
       "      <td>Level 1 Sales Representative</td>\n",
       "      <td>+32 16 20.73.21</td>\n",
       "      <td>1642.0</td>\n",
       "      <td>+32 16 20.73.32</td>\n",
       "      <td>FDecree@grtd123.com</td>\n",
       "      <td>1999-12-01</td>\n",
       "      <td>38</td>\n",
       "    </tr>\n",
       "    <tr>\n",
       "      <th>99</th>\n",
       "      <td>122</td>\n",
       "      <td>Yvette</td>\n",
       "      <td>Lattrez</td>\n",
       "      <td>Level 3 Sales Representative</td>\n",
       "      <td>+32 16 20.73.21</td>\n",
       "      <td>1633.0</td>\n",
       "      <td>+32 16 20.73.32</td>\n",
       "      <td>YLattrez@grtd123.com</td>\n",
       "      <td>1999-12-09</td>\n",
       "      <td>38</td>\n",
       "    </tr>\n",
       "    <tr>\n",
       "      <th>100</th>\n",
       "      <td>123</td>\n",
       "      <td>Willi</td>\n",
       "      <td>Seefelder</td>\n",
       "      <td>Level 2 Sales Representative</td>\n",
       "      <td>+(43) 13 79 56 32</td>\n",
       "      <td>325.0</td>\n",
       "      <td>+(43) 13 79 56 33</td>\n",
       "      <td>WSeefelder@grtd123.com</td>\n",
       "      <td>1998-10-28</td>\n",
       "      <td>39</td>\n",
       "    </tr>\n",
       "    <tr>\n",
       "      <th>101</th>\n",
       "      <td>124</td>\n",
       "      <td>Sabine</td>\n",
       "      <td>Grüner</td>\n",
       "      <td>Level 3 Sales Representative</td>\n",
       "      <td>+(43) 13 79 56 32</td>\n",
       "      <td>348.0</td>\n",
       "      <td>+(43) 13 79 56 33</td>\n",
       "      <td>SGruner@grtd123.com</td>\n",
       "      <td>1998-02-18</td>\n",
       "      <td>39</td>\n",
       "    </tr>\n",
       "  </tbody>\n",
       "</table>\n",
       "<p>102 rows × 10 columns</p>\n",
       "</div>"
      ],
      "text/plain": [
       "     SALES_STAFF_CODE FIRST_NAME  LAST_NAME                   POSITION_EN  \\\n",
       "0                   4      Denis       Pagé                Branch Manager   \n",
       "1                   5  Élizabeth     Michel  Level 3 Sales Representative   \n",
       "2                   6      Émile   Clermont  Level 1 Sales Representative   \n",
       "3                   7    Étienne     Jauvin  Level 2 Sales Representative   \n",
       "4                  12    Elsbeth  Wiesinger  Level 2 Sales Representative   \n",
       "..                ...        ...        ...                           ...   \n",
       "97                120      Giele   Laermans  Level 1 Sales Representative   \n",
       "98                121   François    De Crée  Level 1 Sales Representative   \n",
       "99                122     Yvette    Lattrez  Level 3 Sales Representative   \n",
       "100               123      Willi  Seefelder  Level 2 Sales Representative   \n",
       "101               124     Sabine     Grüner  Level 3 Sales Representative   \n",
       "\n",
       "            WORK_PHONE  EXTENSION                FAX                   EMAIL  \\\n",
       "0    +33 1 68 94 52 20      325.0  +33 1 68 94 56 60       DPage@grtd123.com   \n",
       "1    +33 1 68 94 52 20      336.0  +33 1 68 94 56 60     EMichel@grtd123.com   \n",
       "2    +33 1 68 94 52 20      378.0  +33 1 68 94 56 60   EClermont@grtd123.com   \n",
       "3    +33 1 68 94 52 20      398.0  +33 1 68 94 56 60     EJauvin@grtd123.com   \n",
       "4    +(49) 40 663 1990     1818.0  +(49) 40 663 4571  EWiesinger@grtd123.com   \n",
       "..                 ...        ...                ...                     ...   \n",
       "97     +32 16 20.73.21     1340.0    +32 16 20.73.32   GLaermans@grtd123.com   \n",
       "98     +32 16 20.73.21     1642.0    +32 16 20.73.32     FDecree@grtd123.com   \n",
       "99     +32 16 20.73.21     1633.0    +32 16 20.73.32    YLattrez@grtd123.com   \n",
       "100  +(43) 13 79 56 32      325.0  +(43) 13 79 56 33  WSeefelder@grtd123.com   \n",
       "101  +(43) 13 79 56 32      348.0  +(43) 13 79 56 33     SGruner@grtd123.com   \n",
       "\n",
       "     DATE_HIRED  SALES_BRANCH_CODE  \n",
       "0    1996-11-03                  6  \n",
       "1    1995-06-08                  6  \n",
       "2    1998-04-07                  6  \n",
       "3    1997-08-16                  6  \n",
       "4    1997-02-27                 13  \n",
       "..          ...                ...  \n",
       "97   1999-11-15                 38  \n",
       "98   1999-12-01                 38  \n",
       "99   1999-12-09                 38  \n",
       "100  1998-10-28                 39  \n",
       "101  1998-02-18                 39  \n",
       "\n",
       "[102 rows x 10 columns]"
      ]
     },
     "execution_count": 8,
     "metadata": {},
     "output_type": "execute_result"
    }
   ],
   "source": [
    "pd.read_sql(\"SELECT * FROM sales_staff\", sales_conn)"
   ]
  },
  {
   "cell_type": "markdown",
   "metadata": {},
   "source": [
    "## Datumkolommen"
   ]
  },
  {
   "cell_type": "markdown",
   "metadata": {},
   "source": [
    "Zoals je misschien al hebt gezien in DB Browser, zijn datums als TEXT opgeslagen, en niet als DATE, DATETIME o.i.d. Hier moeten we dus nog even \"typische datumkolommen\" van maken. Dat doen we met de volgende code:"
   ]
  },
  {
   "cell_type": "code",
   "execution_count": 17,
   "metadata": {},
   "outputs": [
    {
     "ename": "NameError",
     "evalue": "name 'sales_staff' is not defined",
     "output_type": "error",
     "traceback": [
      "\u001b[1;31m---------------------------------------------------------------------------\u001b[0m",
      "\u001b[1;31mNameError\u001b[0m                                 Traceback (most recent call last)",
      "Cell \u001b[1;32mIn[17], line 1\u001b[0m\n\u001b[1;32m----> 1\u001b[0m sales_staff[\u001b[38;5;124m'\u001b[39m\u001b[38;5;124mDATE_HIRED\u001b[39m\u001b[38;5;124m'\u001b[39m] \u001b[38;5;241m=\u001b[39m pd\u001b[38;5;241m.\u001b[39mto_datetime(\u001b[43msales_staff\u001b[49m[\u001b[38;5;124m'\u001b[39m\u001b[38;5;124mDATE_HIRED\u001b[39m\u001b[38;5;124m'\u001b[39m])\n\u001b[0;32m      2\u001b[0m sales_staff\u001b[38;5;241m.\u001b[39mdtypes\n",
      "\u001b[1;31mNameError\u001b[0m: name 'sales_staff' is not defined"
     ]
    }
   ],
   "source": [
    "sales_staff['DATE_HIRED'] = pd.to_datetime(sales_staff['DATE_HIRED'])\n",
    "sales_staff.dtypes"
   ]
  },
  {
   "cell_type": "markdown",
   "metadata": {},
   "source": [
    "Als we hier het jaar uit willen halen, schrijven we:"
   ]
  },
  {
   "cell_type": "code",
   "execution_count": 18,
   "metadata": {},
   "outputs": [
    {
     "ename": "NameError",
     "evalue": "name 'sales_staff' is not defined",
     "output_type": "error",
     "traceback": [
      "\u001b[1;31m---------------------------------------------------------------------------\u001b[0m",
      "\u001b[1;31mNameError\u001b[0m                                 Traceback (most recent call last)",
      "Cell \u001b[1;32mIn[18], line 1\u001b[0m\n\u001b[1;32m----> 1\u001b[0m pd\u001b[38;5;241m.\u001b[39mDatetimeIndex(\u001b[43msales_staff\u001b[49m[\u001b[38;5;124m'\u001b[39m\u001b[38;5;124mDATE_HIRED\u001b[39m\u001b[38;5;124m'\u001b[39m])\u001b[38;5;241m.\u001b[39mquarter\n",
      "\u001b[1;31mNameError\u001b[0m: name 'sales_staff' is not defined"
     ]
    }
   ],
   "source": [
    "pd.DatetimeIndex(sales_staff['DATE_HIRED']).quarter"
   ]
  },
  {
   "cell_type": "markdown",
   "metadata": {},
   "source": [
    "Deze zelfde syntax is te gebruiken voor het extraheren van kwartalen, maanden, weken en dagen. Probeer het maar eens!"
   ]
  },
  {
   "cell_type": "markdown",
   "metadata": {},
   "source": [
    "## DataFrames uitsplitsen en opbouwen met Series"
   ]
  },
  {
   "cell_type": "markdown",
   "metadata": {},
   "source": [
    "De volgende 5 kolommen hebben betrekking op de contactdetails van elke medewerker in dit DataFrame:\n",
    "- SALES_STAFF_CODE\n",
    "- WORK_PHONE\n",
    "- EXTENSION\n",
    "- FAX\n",
    "- EMAIL\n",
    "\n",
    "Maak van elk van deze 5 kolommen een serie."
   ]
  },
  {
   "cell_type": "code",
   "execution_count": 56,
   "metadata": {},
   "outputs": [
    {
     "name": "stdout",
     "output_type": "stream",
     "text": [
      "0        4\n",
      "1        5\n",
      "2        6\n",
      "3        7\n",
      "4       12\n",
      "      ... \n",
      "97     120\n",
      "98     121\n",
      "99     122\n",
      "100    123\n",
      "101    124\n",
      "Name: SALES_STAFF_CODE, Length: 102, dtype: int64\n",
      "0      +33 1 68 94 52 20\n",
      "1      +33 1 68 94 52 20\n",
      "2      +33 1 68 94 52 20\n",
      "3      +33 1 68 94 52 20\n",
      "4      +(49) 40 663 1990\n",
      "             ...        \n",
      "97       +32 16 20.73.21\n",
      "98       +32 16 20.73.21\n",
      "99       +32 16 20.73.21\n",
      "100    +(43) 13 79 56 32\n",
      "101    +(43) 13 79 56 32\n",
      "Name: WORK_PHONE, Length: 102, dtype: object\n",
      "0       325.0\n",
      "1       336.0\n",
      "2       378.0\n",
      "3       398.0\n",
      "4      1818.0\n",
      "        ...  \n",
      "97     1340.0\n",
      "98     1642.0\n",
      "99     1633.0\n",
      "100     325.0\n",
      "101     348.0\n",
      "Name: EXTENSION, Length: 102, dtype: float64\n",
      "0      +33 1 68 94 56 60\n",
      "1      +33 1 68 94 56 60\n",
      "2      +33 1 68 94 56 60\n",
      "3      +33 1 68 94 56 60\n",
      "4      +(49) 40 663 4571\n",
      "             ...        \n",
      "97       +32 16 20.73.32\n",
      "98       +32 16 20.73.32\n",
      "99       +32 16 20.73.32\n",
      "100    +(43) 13 79 56 33\n",
      "101    +(43) 13 79 56 33\n",
      "Name: FAX, Length: 102, dtype: object\n",
      "0           DPage@grtd123.com\n",
      "1         EMichel@grtd123.com\n",
      "2       EClermont@grtd123.com\n",
      "3         EJauvin@grtd123.com\n",
      "4      EWiesinger@grtd123.com\n",
      "                ...          \n",
      "97      GLaermans@grtd123.com\n",
      "98        FDecree@grtd123.com\n",
      "99       YLattrez@grtd123.com\n",
      "100    WSeefelder@grtd123.com\n",
      "101       SGruner@grtd123.com\n",
      "Name: EMAIL, Length: 102, dtype: object\n"
     ]
    }
   ],
   "source": [
    "SALES_STAFF_CODE = sales_staff[\"SALES_STAFF_CODE\"]\n",
    "WORK_PHONE = sales_staff[\"WORK_PHONE\"]\n",
    "EXTENSION = sales_staff[\"EXTENSION\"]\n",
    "FAX = sales_staff[\"FAX\"]\n",
    "EMAIL = sales_staff[\"EMAIL\"]\n",
    "\n",
    "print(SALES_STAFF_CODE)\n",
    "print(WORK_PHONE)\n",
    "print(EXTENSION)\n",
    "print(FAX)\n",
    "print(EMAIL)"
   ]
  },
  {
   "cell_type": "markdown",
   "metadata": {},
   "source": [
    "Zet allevijf gecreëerde series als kolommen naast elkaar in een DataFrame (*contact_details*). Gebruik pd.concat(...)<br>\n",
    "Hulpvraag: welke waarde geef je aan de axis-parameter?"
   ]
  },
  {
   "cell_type": "code",
   "execution_count": 57,
   "metadata": {},
   "outputs": [
    {
     "data": {
      "text/html": [
       "<div>\n",
       "<style scoped>\n",
       "    .dataframe tbody tr th:only-of-type {\n",
       "        vertical-align: middle;\n",
       "    }\n",
       "\n",
       "    .dataframe tbody tr th {\n",
       "        vertical-align: top;\n",
       "    }\n",
       "\n",
       "    .dataframe thead th {\n",
       "        text-align: right;\n",
       "    }\n",
       "</style>\n",
       "<table border=\"1\" class=\"dataframe\">\n",
       "  <thead>\n",
       "    <tr style=\"text-align: right;\">\n",
       "      <th></th>\n",
       "      <th>SALES_STAFF_CODE</th>\n",
       "      <th>WORK_PHONE</th>\n",
       "      <th>EXTENSION</th>\n",
       "      <th>FAX</th>\n",
       "      <th>EMAIL</th>\n",
       "    </tr>\n",
       "  </thead>\n",
       "  <tbody>\n",
       "    <tr>\n",
       "      <th>0</th>\n",
       "      <td>4</td>\n",
       "      <td>+33 1 68 94 52 20</td>\n",
       "      <td>325.0</td>\n",
       "      <td>+33 1 68 94 56 60</td>\n",
       "      <td>DPage@grtd123.com</td>\n",
       "    </tr>\n",
       "    <tr>\n",
       "      <th>1</th>\n",
       "      <td>5</td>\n",
       "      <td>+33 1 68 94 52 20</td>\n",
       "      <td>336.0</td>\n",
       "      <td>+33 1 68 94 56 60</td>\n",
       "      <td>EMichel@grtd123.com</td>\n",
       "    </tr>\n",
       "    <tr>\n",
       "      <th>2</th>\n",
       "      <td>6</td>\n",
       "      <td>+33 1 68 94 52 20</td>\n",
       "      <td>378.0</td>\n",
       "      <td>+33 1 68 94 56 60</td>\n",
       "      <td>EClermont@grtd123.com</td>\n",
       "    </tr>\n",
       "    <tr>\n",
       "      <th>3</th>\n",
       "      <td>7</td>\n",
       "      <td>+33 1 68 94 52 20</td>\n",
       "      <td>398.0</td>\n",
       "      <td>+33 1 68 94 56 60</td>\n",
       "      <td>EJauvin@grtd123.com</td>\n",
       "    </tr>\n",
       "    <tr>\n",
       "      <th>4</th>\n",
       "      <td>12</td>\n",
       "      <td>+(49) 40 663 1990</td>\n",
       "      <td>1818.0</td>\n",
       "      <td>+(49) 40 663 4571</td>\n",
       "      <td>EWiesinger@grtd123.com</td>\n",
       "    </tr>\n",
       "    <tr>\n",
       "      <th>...</th>\n",
       "      <td>...</td>\n",
       "      <td>...</td>\n",
       "      <td>...</td>\n",
       "      <td>...</td>\n",
       "      <td>...</td>\n",
       "    </tr>\n",
       "    <tr>\n",
       "      <th>97</th>\n",
       "      <td>120</td>\n",
       "      <td>+32 16 20.73.21</td>\n",
       "      <td>1340.0</td>\n",
       "      <td>+32 16 20.73.32</td>\n",
       "      <td>GLaermans@grtd123.com</td>\n",
       "    </tr>\n",
       "    <tr>\n",
       "      <th>98</th>\n",
       "      <td>121</td>\n",
       "      <td>+32 16 20.73.21</td>\n",
       "      <td>1642.0</td>\n",
       "      <td>+32 16 20.73.32</td>\n",
       "      <td>FDecree@grtd123.com</td>\n",
       "    </tr>\n",
       "    <tr>\n",
       "      <th>99</th>\n",
       "      <td>122</td>\n",
       "      <td>+32 16 20.73.21</td>\n",
       "      <td>1633.0</td>\n",
       "      <td>+32 16 20.73.32</td>\n",
       "      <td>YLattrez@grtd123.com</td>\n",
       "    </tr>\n",
       "    <tr>\n",
       "      <th>100</th>\n",
       "      <td>123</td>\n",
       "      <td>+(43) 13 79 56 32</td>\n",
       "      <td>325.0</td>\n",
       "      <td>+(43) 13 79 56 33</td>\n",
       "      <td>WSeefelder@grtd123.com</td>\n",
       "    </tr>\n",
       "    <tr>\n",
       "      <th>101</th>\n",
       "      <td>124</td>\n",
       "      <td>+(43) 13 79 56 32</td>\n",
       "      <td>348.0</td>\n",
       "      <td>+(43) 13 79 56 33</td>\n",
       "      <td>SGruner@grtd123.com</td>\n",
       "    </tr>\n",
       "  </tbody>\n",
       "</table>\n",
       "<p>102 rows × 5 columns</p>\n",
       "</div>"
      ],
      "text/plain": [
       "     SALES_STAFF_CODE         WORK_PHONE  EXTENSION                FAX  \\\n",
       "0                   4  +33 1 68 94 52 20      325.0  +33 1 68 94 56 60   \n",
       "1                   5  +33 1 68 94 52 20      336.0  +33 1 68 94 56 60   \n",
       "2                   6  +33 1 68 94 52 20      378.0  +33 1 68 94 56 60   \n",
       "3                   7  +33 1 68 94 52 20      398.0  +33 1 68 94 56 60   \n",
       "4                  12  +(49) 40 663 1990     1818.0  +(49) 40 663 4571   \n",
       "..                ...                ...        ...                ...   \n",
       "97                120    +32 16 20.73.21     1340.0    +32 16 20.73.32   \n",
       "98                121    +32 16 20.73.21     1642.0    +32 16 20.73.32   \n",
       "99                122    +32 16 20.73.21     1633.0    +32 16 20.73.32   \n",
       "100               123  +(43) 13 79 56 32      325.0  +(43) 13 79 56 33   \n",
       "101               124  +(43) 13 79 56 32      348.0  +(43) 13 79 56 33   \n",
       "\n",
       "                      EMAIL  \n",
       "0         DPage@grtd123.com  \n",
       "1       EMichel@grtd123.com  \n",
       "2     EClermont@grtd123.com  \n",
       "3       EJauvin@grtd123.com  \n",
       "4    EWiesinger@grtd123.com  \n",
       "..                      ...  \n",
       "97    GLaermans@grtd123.com  \n",
       "98      FDecree@grtd123.com  \n",
       "99     YLattrez@grtd123.com  \n",
       "100  WSeefelder@grtd123.com  \n",
       "101     SGruner@grtd123.com  \n",
       "\n",
       "[102 rows x 5 columns]"
      ]
     },
     "execution_count": 57,
     "metadata": {},
     "output_type": "execute_result"
    }
   ],
   "source": [
    "contact_details = pd.concat([sales_staff_code, work_phone, extension, fax, email], axis=1)\n",
    "contact_details"
   ]
  },
  {
   "cell_type": "markdown",
   "metadata": {},
   "source": [
    "## Series en DataFrames maken vanuit lists en dictionaries"
   ]
  },
  {
   "cell_type": "markdown",
   "metadata": {},
   "source": [
    "Met .head(*getal*) kan je de bovenste *getal* rijen van een tabel selecteren.<br>\n",
    "Selecteer op deze manier de bovenste 5 rijen van *contact_details*.<br>\n",
    "Sla dit resultaat op in een nieuw DataFrame."
   ]
  },
  {
   "cell_type": "code",
   "execution_count": 1,
   "metadata": {},
   "outputs": [
    {
     "ename": "NameError",
     "evalue": "name 'contact_details' is not defined",
     "output_type": "error",
     "traceback": [
      "\u001b[1;31m---------------------------------------------------------------------------\u001b[0m",
      "\u001b[1;31mNameError\u001b[0m                                 Traceback (most recent call last)",
      "Cell \u001b[1;32mIn[1], line 1\u001b[0m\n\u001b[1;32m----> 1\u001b[0m vijf_contact_details \u001b[38;5;241m=\u001b[39m \u001b[43mcontact_details\u001b[49m\u001b[38;5;241m.\u001b[39mhead(\u001b[38;5;241m5\u001b[39m)\n\u001b[0;32m      2\u001b[0m vijf_contact_details\n",
      "\u001b[1;31mNameError\u001b[0m: name 'contact_details' is not defined"
     ]
    }
   ],
   "source": [
    "vijf_contact_details = contact_details.head(5)\n",
    "vijf_contact_details"
   ]
  },
  {
   "cell_type": "markdown",
   "metadata": {},
   "source": [
    "Aan deze 10 rijen met contactdetails willen we 3 kolommen toevoegen: 'FIRST_LANGUAGE', 'SECOND_LANGUAGE' & 'THIRD_LANGUAGE'.<br>\n",
    "Iedereens 'First Language' is Engels, afgekort 'EN'. Maak een lijst waarin 5x 'EN' staat.<br>\n",
    "Converteer deze lijst vervolgens naar een serie en voeg deze horizontaal samen met het resultaat van de vorige opdracht.<br>\n",
    "Vergeet niet een passende naam te geven aan de nieuw ontstane kolom."
   ]
  },
  {
   "cell_type": "code",
   "execution_count": 119,
   "metadata": {},
   "outputs": [
    {
     "data": {
      "text/html": [
       "<div>\n",
       "<style scoped>\n",
       "    .dataframe tbody tr th:only-of-type {\n",
       "        vertical-align: middle;\n",
       "    }\n",
       "\n",
       "    .dataframe tbody tr th {\n",
       "        vertical-align: top;\n",
       "    }\n",
       "\n",
       "    .dataframe thead th {\n",
       "        text-align: right;\n",
       "    }\n",
       "</style>\n",
       "<table border=\"1\" class=\"dataframe\">\n",
       "  <thead>\n",
       "    <tr style=\"text-align: right;\">\n",
       "      <th></th>\n",
       "      <th>SALES_STAFF_CODE</th>\n",
       "      <th>WORK_PHONE</th>\n",
       "      <th>EXTENSION</th>\n",
       "      <th>FAX</th>\n",
       "      <th>EMAIL</th>\n",
       "      <th>FIRST_LANGUAGE</th>\n",
       "    </tr>\n",
       "  </thead>\n",
       "  <tbody>\n",
       "    <tr>\n",
       "      <th>0</th>\n",
       "      <td>4</td>\n",
       "      <td>+33 1 68 94 52 20</td>\n",
       "      <td>325.0</td>\n",
       "      <td>+33 1 68 94 56 60</td>\n",
       "      <td>DPage@grtd123.com</td>\n",
       "      <td>EN</td>\n",
       "    </tr>\n",
       "    <tr>\n",
       "      <th>1</th>\n",
       "      <td>5</td>\n",
       "      <td>+33 1 68 94 52 20</td>\n",
       "      <td>336.0</td>\n",
       "      <td>+33 1 68 94 56 60</td>\n",
       "      <td>EMichel@grtd123.com</td>\n",
       "      <td>EN</td>\n",
       "    </tr>\n",
       "    <tr>\n",
       "      <th>2</th>\n",
       "      <td>6</td>\n",
       "      <td>+33 1 68 94 52 20</td>\n",
       "      <td>378.0</td>\n",
       "      <td>+33 1 68 94 56 60</td>\n",
       "      <td>EClermont@grtd123.com</td>\n",
       "      <td>EN</td>\n",
       "    </tr>\n",
       "    <tr>\n",
       "      <th>3</th>\n",
       "      <td>7</td>\n",
       "      <td>+33 1 68 94 52 20</td>\n",
       "      <td>398.0</td>\n",
       "      <td>+33 1 68 94 56 60</td>\n",
       "      <td>EJauvin@grtd123.com</td>\n",
       "      <td>EN</td>\n",
       "    </tr>\n",
       "    <tr>\n",
       "      <th>4</th>\n",
       "      <td>12</td>\n",
       "      <td>+(49) 40 663 1990</td>\n",
       "      <td>1818.0</td>\n",
       "      <td>+(49) 40 663 4571</td>\n",
       "      <td>EWiesinger@grtd123.com</td>\n",
       "      <td>EN</td>\n",
       "    </tr>\n",
       "  </tbody>\n",
       "</table>\n",
       "</div>"
      ],
      "text/plain": [
       "   SALES_STAFF_CODE         WORK_PHONE  EXTENSION                FAX  \\\n",
       "0                 4  +33 1 68 94 52 20      325.0  +33 1 68 94 56 60   \n",
       "1                 5  +33 1 68 94 52 20      336.0  +33 1 68 94 56 60   \n",
       "2                 6  +33 1 68 94 52 20      378.0  +33 1 68 94 56 60   \n",
       "3                 7  +33 1 68 94 52 20      398.0  +33 1 68 94 56 60   \n",
       "4                12  +(49) 40 663 1990     1818.0  +(49) 40 663 4571   \n",
       "\n",
       "                    EMAIL FIRST_LANGUAGE  \n",
       "0       DPage@grtd123.com             EN  \n",
       "1     EMichel@grtd123.com             EN  \n",
       "2   EClermont@grtd123.com             EN  \n",
       "3     EJauvin@grtd123.com             EN  \n",
       "4  EWiesinger@grtd123.com             EN  "
      ]
     },
     "execution_count": 119,
     "metadata": {},
     "output_type": "execute_result"
    }
   ],
   "source": [
    "import pandas as pd\n",
    "\n",
    "first_language = ['EN'] * len(contact_details)\n",
    "first_language_series = pd.Series(first_language, name='FIRST_LANGUAGE')\n",
    "contact_details = pd.concat([SALES_STAFF_CODE, WORK_PHONE, EXTENSION, FAX, EMAIL, first_language_series], axis=1)\n",
    "vijf_contact_details = contact_details.head(5)\n",
    "vijf_contact_details"
   ]
  },
  {
   "cell_type": "markdown",
   "metadata": {},
   "source": [
    "Maak nu de tweede kolom ('SECOND_LANGUAGE'). Maak daarvoor een dictionary, met daarin...\n",
    "- Als keys: alle indexen uit het resultaat van het vorige codeblok.\n",
    "- Als values: bij de eerste 3 elementen 'FR' (Frankrijk), bij de laatste 2 'DE' (Duitsland).\n",
    "\n",
    "Maak vervolgens ook hier weer een serie van en voeg ook deze weer horizontaal samen met het rsultaat van de vorige opdracht.<br>\n",
    "Vergeet niet een passende naam te geven aan de nieuw ontstane kolom."
   ]
  },
  {
   "cell_type": "code",
   "execution_count": null,
   "metadata": {},
   "outputs": [
    {
     "name": "stdout",
     "output_type": "stream",
     "text": [
      "   SALES_STAFF_CODE FIRST_NAME  LAST_NAME                   POSITION_EN  \\\n",
      "0                 4      Denis       Pagé                Branch Manager   \n",
      "1                 5  Élizabeth     Michel  Level 3 Sales Representative   \n",
      "2                 6      Émile   Clermont  Level 1 Sales Representative   \n",
      "3                 7    Étienne     Jauvin  Level 2 Sales Representative   \n",
      "4                12    Elsbeth  Wiesinger  Level 2 Sales Representative   \n",
      "\n",
      "          WORK_PHONE  EXTENSION                FAX                   EMAIL  \\\n",
      "0  +33 1 68 94 52 20      325.0  +33 1 68 94 56 60       DPage@grtd123.com   \n",
      "1  +33 1 68 94 52 20      336.0  +33 1 68 94 56 60     EMichel@grtd123.com   \n",
      "2  +33 1 68 94 52 20      378.0  +33 1 68 94 56 60   EClermont@grtd123.com   \n",
      "3  +33 1 68 94 52 20      398.0  +33 1 68 94 56 60     EJauvin@grtd123.com   \n",
      "4  +(49) 40 663 1990     1818.0  +(49) 40 663 4571  EWiesinger@grtd123.com   \n",
      "\n",
      "   DATE_HIRED  SALES_BRANCH_CODE SECOND_LANGUAGE  \n",
      "0  1996-11-03                  6             NaN  \n",
      "1  1995-06-08                  6             NaN  \n",
      "2  1998-04-07                  6             NaN  \n",
      "3  1997-08-16                  6             NaN  \n",
      "4  1997-02-27                 13             NaN  \n",
      "     SALES_STAFF_CODE FIRST_NAME  LAST_NAME                   POSITION_EN  \\\n",
      "97                120      Giele   Laermans  Level 1 Sales Representative   \n",
      "98                121   François    De Crée  Level 1 Sales Representative   \n",
      "99                122     Yvette    Lattrez  Level 3 Sales Representative   \n",
      "100               123      Willi  Seefelder  Level 2 Sales Representative   \n",
      "101               124     Sabine     Grüner  Level 3 Sales Representative   \n",
      "\n",
      "            WORK_PHONE  EXTENSION                FAX                   EMAIL  \\\n",
      "97     +32 16 20.73.21     1340.0    +32 16 20.73.32   GLaermans@grtd123.com   \n",
      "98     +32 16 20.73.21     1642.0    +32 16 20.73.32     FDecree@grtd123.com   \n",
      "99     +32 16 20.73.21     1633.0    +32 16 20.73.32    YLattrez@grtd123.com   \n",
      "100  +(43) 13 79 56 32      325.0  +(43) 13 79 56 33  WSeefelder@grtd123.com   \n",
      "101  +(43) 13 79 56 32      348.0  +(43) 13 79 56 33     SGruner@grtd123.com   \n",
      "\n",
      "     DATE_HIRED  SALES_BRANCH_CODE SECOND_LANGUAGE  \n",
      "97   1999-11-15                 38              DE  \n",
      "98   1999-12-01                 38              DE  \n",
      "99   1999-12-09                 38              DE  \n",
      "100  1998-10-28                 39              DE  \n",
      "101  1998-02-18                 39              DE  \n"
     ]
    }
   ],
   "source": [
    "import pandas as pd\n",
    "\n",
    "# Maak een dictionary met de indexen van sales_staff\n",
    "second_language_dict = {i: 'FR' if i < 3 else 'DE' for i in sales_staff.index[-5:]}  # Eerste 3 'FR', laatste 2 'DE'\n",
    "\n",
    "# Zet de dictionary om naar een Pandas Series\n",
    "second_language_series = pd.Series(second_language_dict, name='SECOND_LANGUAGE')\n",
    "\n",
    "# Voeg de nieuwe kolom toe aan sales_staff\n",
    "sales_staff = sales_staff.join(second_language_series)\n",
    "\n",
    "# Toon de eerste en laatste 5 rijen om te controleren\n",
    "print(sales_staff.head(5))\n",
    "print(sales_staff.tail(5))\n"
   ]
  },
  {
   "cell_type": "markdown",
   "metadata": {},
   "source": [
    "Maak ten slotte de derde kolom ('THIRD_LANGUAGE') door een dictionary te maken met daarin...\n",
    "- Als key: de naam van de nieuwe kolom. Zie je het verschil qua keys met de vorige opdracht?\n",
    "- Als waarde: een lijst met daarin 'NL', 'NL', 'JPN', 'JPN', 'KOR'.\n",
    "\n",
    "Converteer deze dictionary nu naar een DataFrame en voeg deze horizontaal samen met het resultaat van de vorige opdracht.<br>\n",
    "Waarom hoef je hierna de nieuw ontstane kolom geen passende naam meer te geven?"
   ]
  },
  {
   "cell_type": "code",
   "execution_count": 122,
   "metadata": {},
   "outputs": [
    {
     "name": "stdout",
     "output_type": "stream",
     "text": [
      "   SALES_STAFF_CODE FIRST_NAME  LAST_NAME                   POSITION_EN  \\\n",
      "0                 4      Denis       Pagé                Branch Manager   \n",
      "1                 5  Élizabeth     Michel  Level 3 Sales Representative   \n",
      "2                 6      Émile   Clermont  Level 1 Sales Representative   \n",
      "3                 7    Étienne     Jauvin  Level 2 Sales Representative   \n",
      "4                12    Elsbeth  Wiesinger  Level 2 Sales Representative   \n",
      "\n",
      "          WORK_PHONE  EXTENSION                FAX                   EMAIL  \\\n",
      "0  +33 1 68 94 52 20      325.0  +33 1 68 94 56 60       DPage@grtd123.com   \n",
      "1  +33 1 68 94 52 20      336.0  +33 1 68 94 56 60     EMichel@grtd123.com   \n",
      "2  +33 1 68 94 52 20      378.0  +33 1 68 94 56 60   EClermont@grtd123.com   \n",
      "3  +33 1 68 94 52 20      398.0  +33 1 68 94 56 60     EJauvin@grtd123.com   \n",
      "4  +(49) 40 663 1990     1818.0  +(49) 40 663 4571  EWiesinger@grtd123.com   \n",
      "\n",
      "   DATE_HIRED  SALES_BRANCH_CODE SECOND_LANGUAGE THIRD_LANGUAGE  \n",
      "0  1996-11-03                  6             NaN             NL  \n",
      "1  1995-06-08                  6             NaN             NL  \n",
      "2  1998-04-07                  6             NaN            JPN  \n",
      "3  1997-08-16                  6             NaN            JPN  \n",
      "4  1997-02-27                 13             NaN            KOR  \n",
      "     SALES_STAFF_CODE FIRST_NAME  LAST_NAME                   POSITION_EN  \\\n",
      "97                120      Giele   Laermans  Level 1 Sales Representative   \n",
      "98                121   François    De Crée  Level 1 Sales Representative   \n",
      "99                122     Yvette    Lattrez  Level 3 Sales Representative   \n",
      "100               123      Willi  Seefelder  Level 2 Sales Representative   \n",
      "101               124     Sabine     Grüner  Level 3 Sales Representative   \n",
      "\n",
      "            WORK_PHONE  EXTENSION                FAX                   EMAIL  \\\n",
      "97     +32 16 20.73.21     1340.0    +32 16 20.73.32   GLaermans@grtd123.com   \n",
      "98     +32 16 20.73.21     1642.0    +32 16 20.73.32     FDecree@grtd123.com   \n",
      "99     +32 16 20.73.21     1633.0    +32 16 20.73.32    YLattrez@grtd123.com   \n",
      "100  +(43) 13 79 56 32      325.0  +(43) 13 79 56 33  WSeefelder@grtd123.com   \n",
      "101  +(43) 13 79 56 32      348.0  +(43) 13 79 56 33     SGruner@grtd123.com   \n",
      "\n",
      "     DATE_HIRED  SALES_BRANCH_CODE SECOND_LANGUAGE THIRD_LANGUAGE  \n",
      "97   1999-11-15                 38              DE            NaN  \n",
      "98   1999-12-01                 38              DE            NaN  \n",
      "99   1999-12-09                 38              DE            NaN  \n",
      "100  1998-10-28                 39              DE            NaN  \n",
      "101  1998-02-18                 39              DE            NaN  \n"
     ]
    }
   ],
   "source": [
    "import pandas as pd\n",
    "\n",
    "# Maak de dictionary voor 'THIRD_LANGUAGE'\n",
    "third_language_dict = {'THIRD_LANGUAGE': ['NL', 'NL', 'JPN', 'JPN', 'KOR']}\n",
    "\n",
    "# Converteer naar een DataFrame\n",
    "third_language_df = pd.DataFrame(third_language_dict)\n",
    "\n",
    "# Voeg deze toe aan sales_staff\n",
    "sales_staff = pd.concat([sales_staff, third_language_df], axis=1)\n",
    "\n",
    "# Toon de eerste en laatste 5 rijen om te controleren\n",
    "print(sales_staff.head(5))\n",
    "print(sales_staff.tail(5))\n"
   ]
  },
  {
   "cell_type": "markdown",
   "metadata": {},
   "source": [
    "## Data toevoegen"
   ]
  },
  {
   "cell_type": "markdown",
   "metadata": {},
   "source": [
    "### Rijen"
   ]
  },
  {
   "cell_type": "markdown",
   "metadata": {},
   "source": [
    "Gebruik de originele databasetabel *sales_staff*.<br>\n",
    "Voeg een extra rij toe met eigen invulling. Zorg ervoor dat de index netjes doorloopt.<br>\n",
    "Hulpvraag: welke waarde geef je nu aan axis?"
   ]
  },
  {
   "cell_type": "code",
   "execution_count": null,
   "metadata": {},
   "outputs": [
    {
     "name": "stdout",
     "output_type": "stream",
     "text": [
      "  SALES_STAFF_CODE  WORK_PHONE  EXTENSION  FAX             EMAIL\n",
      "0               S1           1        123  321  example1@123.com\n",
      "1               S2           1        456  654  example2@123.com\n",
      "2               S3           0        789  987  example3@123.com\n",
      "3               S4           1        101  101  example4@123.com\n",
      "4               S5           0        112  112  example5@123.com\n",
      "5               S6           1        113  113   example6@123.nl\n"
     ]
    }
   ],
   "source": [
    "import pandas as pd\n",
    "\n",
    "sales_staff = pd.DataFrame({\n",
    "    'SALES_STAFF_CODE': ['S1', 'S2', 'S3', 'S4', 'S5'],\n",
    "    'WORK_PHONE': [1, 1, 0, 1, 0],\n",
    "    'EXTENSION': [123, 456, 789, 101, 112],\n",
    "    'FAX': [321, 654, 987, 101, 112],\n",
    "    'EMAIL': ['example1@123.com', 'example2@123.com', 'example3@123.com', 'example4@123.com', 'example5@123.com']\n",
    "})\n",
    "\n",
    "sales_staff.loc[len(sales_staff)] = ['S6', 1, 113, 113, 'example6@123.nl']\n",
    "\n",
    "print(sales_staff)"
   ]
  },
  {
   "cell_type": "markdown",
   "metadata": {},
   "source": [
    "### Kolommen"
   ]
  },
  {
   "cell_type": "markdown",
   "metadata": {},
   "source": [
    "Voeg een kolom *FULL_NAME* toe die de waarden van *FIRST_NAME* en *LAST_NAME* achter elkaar zet, gescheiden door een spatie."
   ]
  },
  {
   "cell_type": "code",
   "execution_count": null,
   "metadata": {},
   "outputs": [
    {
     "name": "stdout",
     "output_type": "stream",
     "text": [
      "  FIRST_NAME LAST_NAME     FULL_NAME\n",
      "0       John       Doe      John Doe\n",
      "1       Jane     Smith    Jane Smith\n",
      "2       Mike     Brown    Mike Brown\n",
      "3       Anna   Johnson  Anna Johnson\n",
      "4        Tom     Davis     Tom Davis\n"
     ]
    }
   ],
   "source": [
    "import pandas as pd\n",
    "\n",
    "sales_staff = pd.DataFrame({\n",
    "    'FIRST_NAME': ['John', 'Jane', 'Mike', 'Anna', 'Tom'],\n",
    "    'LAST_NAME': ['Doe', 'Smith', 'Brown', 'Johnson', 'Davis'],\n",
    "})\n",
    "\n",
    "sales_staff['FULL_NAME'] = sales_staff['FIRST_NAME'] + ' ' + sales_staff['LAST_NAME']\n",
    "\n",
    "print(sales_staff)\n"
   ]
  },
  {
   "cell_type": "markdown",
   "metadata": {},
   "source": [
    "## Data wijzigen"
   ]
  },
  {
   "cell_type": "markdown",
   "metadata": {},
   "source": [
    "### Datatypen"
   ]
  },
  {
   "cell_type": "markdown",
   "metadata": {},
   "source": [
    "Door het attribuut .dtypes van een DataFrame op te vragen krijg je een serie die per kolom het datatype weergeeft. Doe dit bij de originele databasetabel *sales_staff*"
   ]
  },
  {
   "cell_type": "code",
   "execution_count": null,
   "metadata": {},
   "outputs": [
    {
     "name": "stdout",
     "output_type": "stream",
     "text": [
      "SALES_STAFF_CODE    object\n",
      "WORK_PHONE           int64\n",
      "EXTENSION            int64\n",
      "FAX                  int64\n",
      "EMAIL               object\n",
      "dtype: object\n"
     ]
    }
   ],
   "source": [
    "import pandas as pd\n",
    "\n",
    "sales_staff = pd.DataFrame({\n",
    "    'SALES_STAFF_CODE': ['S1', 'S2', 'S3', 'S4', 'S5'],\n",
    "    'WORK_PHONE': [1, 1, 0, 1, 0],\n",
    "    'EXTENSION': [123, 456, 789, 101, 112],\n",
    "    'FAX': [321, 654, 987, 101, 112],\n",
    "    'EMAIL': ['example1@123.com', 'example2@123.com', 'example3@123.com', 'example4@123.com', 'example5@123.com']\n",
    "})\n",
    "\n",
    "print(sales_staff.dtypes)\n"
   ]
  },
  {
   "cell_type": "markdown",
   "metadata": {},
   "source": [
    "Hier valt op dat elke kolom het datatype 'object' heeft: Python leest dus alles als string. Wiskundige operaties zijn hierdoor niet mogelijk.<br>\n",
    "We kunnen proberen om kolommen met getallen, bijvoorbeeld de 'extension', te converteren naar een int. Zie onderstaande code."
   ]
  },
  {
   "cell_type": "code",
   "execution_count": 3,
   "metadata": {},
   "outputs": [
    {
     "ename": "NameError",
     "evalue": "name 'sales_staff' is not defined",
     "output_type": "error",
     "traceback": [
      "\u001b[1;31m---------------------------------------------------------------------------\u001b[0m",
      "\u001b[1;31mNameError\u001b[0m                                 Traceback (most recent call last)",
      "Cell \u001b[1;32mIn[3], line 1\u001b[0m\n\u001b[1;32m----> 1\u001b[0m sales_staff[\u001b[38;5;124m'\u001b[39m\u001b[38;5;124mEXTENSION\u001b[39m\u001b[38;5;124m'\u001b[39m] \u001b[38;5;241m=\u001b[39m \u001b[43msales_staff\u001b[49m[\u001b[38;5;124m'\u001b[39m\u001b[38;5;124mEXTENSION\u001b[39m\u001b[38;5;124m'\u001b[39m]\u001b[38;5;241m.\u001b[39mastype(\u001b[38;5;28mint\u001b[39m)\n\u001b[0;32m      2\u001b[0m sales_staff\u001b[38;5;241m.\u001b[39mdtypes\n",
      "\u001b[1;31mNameError\u001b[0m: name 'sales_staff' is not defined"
     ]
    }
   ],
   "source": [
    "sales_staff['EXTENSION'] = sales_staff['EXTENSION'].astype(int)\n",
    "sales_staff.dtypes"
   ]
  },
  {
   "cell_type": "markdown",
   "metadata": {},
   "source": [
    "Dit lukt echter niet, omdat er in de kolom 'EXTENSION' lege waarden zitten die niet geconverteerd kunnen worden naar een int.<br>\n",
    "Wél kan je deze naar een float converteren, zie onderstaande code:"
   ]
  },
  {
   "cell_type": "code",
   "execution_count": null,
   "metadata": {},
   "outputs": [],
   "source": [
    "sales_staff['EXTENSION'] = sales_staff['EXTENSION'].astype(float)\n",
    "sales_staff.dtypes"
   ]
  },
  {
   "cell_type": "markdown",
   "metadata": {},
   "source": [
    "Als we in de rij van 'EXTENSION' kijken zien we dat de conversie van het datatype nu is gelukt.<br>\n",
    "Dit is <b>randvoorwaardelijk</b> voor het uitvoeren van wiskundige operaties.<br>"
   ]
  },
  {
   "cell_type": "markdown",
   "metadata": {},
   "source": [
    "### Rijen"
   ]
  },
  {
   "cell_type": "markdown",
   "metadata": {},
   "source": [
    "Zorg er nu voor dat bij alle extensions 1 wordt opgeteld."
   ]
  },
  {
   "cell_type": "code",
   "execution_count": null,
   "metadata": {},
   "outputs": [
    {
     "name": "stdout",
     "output_type": "stream",
     "text": [
      "  SALES_STAFF_CODE  WORK_PHONE  EXTENSION  FAX             EMAIL\n",
      "0               S1           1      124.0  321  example1@123.com\n",
      "1               S2           1      457.0  654  example2@123.com\n",
      "2               S3           0      790.0  987  example3@123.com\n",
      "3               S4           1      102.0  101  example4@123.com\n",
      "4               S5           0      113.0  112  example5@123.com\n"
     ]
    }
   ],
   "source": [
    "import pandas as pd\n",
    "\n",
    "sales_staff = pd.DataFrame({\n",
    "    'SALES_STAFF_CODE': ['S1', 'S2', 'S3', 'S4', 'S5'],\n",
    "    'WORK_PHONE': [1, 1, 0, 1, 0],\n",
    "    'EXTENSION': [123, 456, 789, 101, 112],\n",
    "    'FAX': [321, 654, 987, 101, 112],\n",
    "    'EMAIL': ['example1@123.com', 'example2@123.com', 'example3@123.com', 'example4@123.com', 'example5@123.com']\n",
    "})\n",
    "\n",
    "sales_staff['EXTENSION'] = sales_staff['EXTENSION'].astype(float)\n",
    "\n",
    "sales_staff['EXTENSION'] += 1\n",
    "\n",
    "print(sales_staff)\n"
   ]
  },
  {
   "cell_type": "markdown",
   "metadata": {},
   "source": [
    "Elke 'Branch Manager' wordt nu 'General Manager'. Schrijf code zodat deze wijziging doorgevoerd wordt in het DataFrame."
   ]
  },
  {
   "cell_type": "code",
   "execution_count": null,
   "metadata": {},
   "outputs": [
    {
     "name": "stdout",
     "output_type": "stream",
     "text": [
      "  SALES_STAFF_CODE         POSITION\n",
      "0               S1  General Manager\n",
      "1               S2        Sales Rep\n",
      "2               S3  General Manager\n",
      "3               S4        Assistant\n",
      "4               S5  General Manager\n"
     ]
    }
   ],
   "source": [
    "import pandas as pd\n",
    "\n",
    "sales_staff = pd.DataFrame({\n",
    "    'SALES_STAFF_CODE': ['S1', 'S2', 'S3', 'S4', 'S5'],\n",
    "    'POSITION': ['Branch Manager', 'Sales Rep', 'Branch Manager', 'Assistant', 'Branch Manager']\n",
    "})\n",
    "\n",
    "sales_staff['POSITION'] = sales_staff['POSITION'].replace('Branch Manager', 'General Manager')\n",
    "\n",
    "print(sales_staff)\n"
   ]
  },
  {
   "cell_type": "markdown",
   "metadata": {},
   "source": [
    "### Kolommen"
   ]
  },
  {
   "cell_type": "markdown",
   "metadata": {},
   "source": [
    "Verander de kolomnaam 'POSITION_EN' naar 'POSITION'."
   ]
  },
  {
   "cell_type": "code",
   "execution_count": null,
   "metadata": {},
   "outputs": [
    {
     "name": "stdout",
     "output_type": "stream",
     "text": [
      "  SALES_STAFF_CODE    POSITION\n",
      "0               S1     Manager\n",
      "1               S2   Sales Rep\n",
      "2               S3  Supervisor\n",
      "3               S4   Assistant\n",
      "4               S5    Director\n"
     ]
    }
   ],
   "source": [
    "import pandas as pd\n",
    "\n",
    "sales_staff = pd.DataFrame({\n",
    "    'SALES_STAFF_CODE': ['S1', 'S2', 'S3', 'S4', 'S5'],\n",
    "    'POSITION_EN': ['Manager', 'Sales Rep', 'Supervisor', 'Assistant', 'Director']\n",
    "})\n",
    "\n",
    "sales_staff = sales_staff.rename(columns={'POSITION_EN': 'POSITION'})\n",
    "\n",
    "print(sales_staff)\n"
   ]
  },
  {
   "cell_type": "markdown",
   "metadata": {},
   "source": [
    "## Data verwijderen"
   ]
  },
  {
   "cell_type": "markdown",
   "metadata": {},
   "source": [
    "### Rijen"
   ]
  },
  {
   "cell_type": "markdown",
   "metadata": {},
   "source": [
    "De medewerkers op indexen 99, 100 en 101 hebben helaas ontslag genomen.<br>\n",
    "Verwijder de bijbehorende rijen uit het DataFrame. Gebruik slechts één keer de .drop()-methode."
   ]
  },
  {
   "cell_type": "code",
   "execution_count": null,
   "metadata": {},
   "outputs": [
    {
     "name": "stdout",
     "output_type": "stream",
     "text": [
      "   SALES_STAFF_CODE  POSITION\n",
      "0                S1  Employee\n",
      "1                S2  Employee\n",
      "2                S3  Employee\n",
      "3                S4  Employee\n",
      "4                S5  Employee\n",
      "..              ...       ...\n",
      "94              S95  Employee\n",
      "95              S96  Employee\n",
      "96              S97  Employee\n",
      "97              S98  Employee\n",
      "98              S99  Employee\n",
      "\n",
      "[99 rows x 2 columns]\n"
     ]
    }
   ],
   "source": [
    "import pandas as pd\n",
    "\n",
    "sales_staff = pd.DataFrame({\n",
    "    'SALES_STAFF_CODE': ['S' + str(i) for i in range(1, 103)],\n",
    "    'POSITION': ['Employee'] * 102\n",
    "})\n",
    "\n",
    "sales_staff = sales_staff.drop(index=[99, 100, 101])\n",
    "\n",
    "print(sales_staff)\n"
   ]
  },
  {
   "cell_type": "markdown",
   "metadata": {},
   "source": [
    "### Kolommen"
   ]
  },
  {
   "cell_type": "markdown",
   "metadata": {},
   "source": [
    "Faxen zijn inmiddels ouderwets: niemand gebruikt zijn/haar faxnummer nog.<br>\n",
    "Verwijder de bijbehorende kolom uit het DataFrame."
   ]
  },
  {
   "cell_type": "code",
   "execution_count": null,
   "metadata": {},
   "outputs": [
    {
     "name": "stdout",
     "output_type": "stream",
     "text": [
      "  SALES_STAFF_CODE  WORK_PHONE  EXTENSION             EMAIL\n",
      "0               S1           1        123  example1@123.com\n",
      "1               S2           1        456  example2@123.com\n",
      "2               S3           0        789  example3@123.com\n",
      "3               S4           1        101  example4@123.com\n",
      "4               S5           0        112  example5@123.com\n"
     ]
    }
   ],
   "source": [
    "import pandas as pd\n",
    "\n",
    "sales_staff = pd.DataFrame({\n",
    "    'SALES_STAFF_CODE': ['S1', 'S2', 'S3', 'S4', 'S5'],\n",
    "    'WORK_PHONE': [1, 1, 0, 1, 0],\n",
    "    'EXTENSION': [123, 456, 789, 101, 112],\n",
    "    'FAX': [321, 654, 987, 101, 112],  # Deze kolom gaan we verwijderen\n",
    "    'EMAIL': ['example1@123.com', 'example2@123.com', 'example3@123.com', 'example4@123.com', 'example5@123.com']\n",
    "})\n",
    "\n",
    "sales_staff = sales_staff.drop(columns=['FAX'])\n",
    "\n",
    "print(sales_staff)\n"
   ]
  },
  {
   "cell_type": "code",
   "execution_count": null,
   "metadata": {},
   "outputs": [],
   "source": []
  }
 ],
 "metadata": {
  "kernelspec": {
   "display_name": ".venv",
   "language": "python",
   "name": "python3"
  },
  "language_info": {
   "codemirror_mode": {
    "name": "ipython",
    "version": 3
   },
   "file_extension": ".py",
   "mimetype": "text/x-python",
   "name": "python",
   "nbconvert_exporter": "python",
   "pygments_lexer": "ipython3",
   "version": "3.12.6"
  }
 },
 "nbformat": 4,
 "nbformat_minor": 2
}
