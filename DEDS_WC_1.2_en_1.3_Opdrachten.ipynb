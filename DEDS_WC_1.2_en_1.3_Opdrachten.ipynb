{
 "cells": [
  {
   "cell_type": "markdown",
   "metadata": {},
   "source": [
    "# Werkcollege-opdrachten Week 1.3"
   ]
  },
  {
   "cell_type": "markdown",
   "metadata": {},
   "source": [
    "## Dependencies importeren"
   ]
  },
  {
   "cell_type": "markdown",
   "metadata": {},
   "source": [
    "Kopieer in het codeblok hieronder van het vorige practicum de import-code voor de dependencies die het vaakst worden gebruikt om data in te lezen. Geef er ook de gebruikelijke aliassen aan.<br>\n",
    "Zet eventuele warnings uit."
   ]
  },
  {
   "cell_type": "code",
   "execution_count": null,
   "metadata": {},
   "outputs": [],
   "source": [
    "import pandas as pd\n",
    "import warnings\n",
    "import sqlite3\n",
    "\n",
    "warnings.filterwarnings('ignore')"
   ]
  },
  {
   "cell_type": "markdown",
   "metadata": {},
   "source": [
    "Zet het bestand go_sales_train.sqlite in een makkelijk te vinden map"
   ]
  },
  {
   "cell_type": "markdown",
   "metadata": {},
   "source": [
    "## Databasetabellen inlezen"
   ]
  },
  {
   "cell_type": "markdown",
   "metadata": {},
   "source": [
    "Kopieer in het codeblok hieronder van het vorige practicum de code om een connectie met het bestand go_sales_train.sqlite te maken."
   ]
  },
  {
   "cell_type": "code",
   "execution_count": null,
   "metadata": {},
   "outputs": [],
   "source": [
    "import sqlite3\n",
    "conn = sqlite3.connect('sqlite/go_sales_train.sqlite')"
   ]
  },
  {
   "cell_type": "markdown",
   "metadata": {},
   "source": [
    "Lees van de ingelezen go_sales_train-database te volgende tabellen in met behulp van \"SELECT * FROM *tabel*\".\n",
    "- product\n",
    "- product_type\n",
    "- product_line\n",
    "- sales_staff\n",
    "- sales_branch\n",
    "- retailer_site\n",
    "- country\n",
    "- order_header\n",
    "- order_details\n",
    "- returned_item\n",
    "- return_reason"
   ]
  },
  {
   "cell_type": "code",
   "execution_count": 1,
   "metadata": {},
   "outputs": [
    {
     "name": "stdout",
     "output_type": "stream",
     "text": [
      "Tabel: product\n",
      "   PRODUCT_NUMBER INTRODUCTION_DATE  PRODUCT_TYPE_CODE  PRODUCTION_COST  \\\n",
      "0               1        1995-02-15                  1             4.00   \n",
      "1               2        1995-02-15                  1             9.22   \n",
      "2               3        1995-02-15                  1            15.93   \n",
      "3               4        1995-02-15                  1             5.00   \n",
      "4               5        1995-02-15                  1            34.97   \n",
      "\n",
      "   MARGIN  PRODUCT_IMAGE LANGUAGE           PRODUCT_NAME  \\\n",
      "0    0.33  P01CE1CG1.jpg       EN    TrailChef Water Bag   \n",
      "1    0.23  P02CE1CG1.jpg       EN      TrailChef Canteen   \n",
      "2    0.28  P03CE1CG1.jpg       EN  TrailChef Kitchen Kit   \n",
      "3    0.28  P04CE1CG1.jpg       EN          TrailChef Cup   \n",
      "4    0.30  P05CE1CG1.jpg       EN     TrailChef Cook Set   \n",
      "\n",
      "                                         DESCRIPTION  \n",
      "0  Lightweight, collapsible bag to carry liquids ...  \n",
      "1  Aluminum canteen. Rugged fleece-lined cover wi...  \n",
      "2  Zippered nylon pouch contains cutlery for two,...  \n",
      "3            Tin cup. Holds 0.4 liters. Weight: 60 g  \n",
      "4  All you will ever need on the trail.  Pot grip...   \n",
      "\n",
      "Tabel: product_type\n",
      "   PRODUCT_TYPE_CODE  PRODUCT_LINE_CODE PRODUCT_TYPE_EN\n",
      "0                  1                  1    Cooking Gear\n",
      "1                  2                  1           Tents\n",
      "2                  3                  1   Sleeping Bags\n",
      "3                  4                  1           Packs\n",
      "4                  5                  1        Lanterns \n",
      "\n",
      "Tabel: product_line\n",
      "   PRODUCT_LINE_CODE           PRODUCT_LINE_EN\n",
      "0                  1         Camping Equipment\n",
      "1                  2  Mountaineering Equipment\n",
      "2                  3      Personal Accessories\n",
      "3                  4        Outdoor Protection\n",
      "4                  5            Golf Equipment \n",
      "\n",
      "Tabel: sales_staff\n",
      "   SALES_STAFF_CODE FIRST_NAME  LAST_NAME                   POSITION_EN  \\\n",
      "0                 4      Denis       Pagé                Branch Manager   \n",
      "1                 5  Élizabeth     Michel  Level 3 Sales Representative   \n",
      "2                 6      Émile   Clermont  Level 1 Sales Representative   \n",
      "3                 7    Étienne     Jauvin  Level 2 Sales Representative   \n",
      "4                12    Elsbeth  Wiesinger  Level 2 Sales Representative   \n",
      "\n",
      "          WORK_PHONE  EXTENSION                FAX                   EMAIL  \\\n",
      "0  +33 1 68 94 52 20      325.0  +33 1 68 94 56 60       DPage@grtd123.com   \n",
      "1  +33 1 68 94 52 20      336.0  +33 1 68 94 56 60     EMichel@grtd123.com   \n",
      "2  +33 1 68 94 52 20      378.0  +33 1 68 94 56 60   EClermont@grtd123.com   \n",
      "3  +33 1 68 94 52 20      398.0  +33 1 68 94 56 60     EJauvin@grtd123.com   \n",
      "4  +(49) 40 663 1990     1818.0  +(49) 40 663 4571  EWiesinger@grtd123.com   \n",
      "\n",
      "   DATE_HIRED  SALES_BRANCH_CODE  \n",
      "0  1996-11-03                  6  \n",
      "1  1995-06-08                  6  \n",
      "2  1998-04-07                  6  \n",
      "3  1997-08-16                  6  \n",
      "4  1997-02-27                 13   \n",
      "\n",
      "Tabel: sales_branch\n",
      "   SALES_BRANCH_CODE                       ADDRESS1       ADDRESS2       CITY  \\\n",
      "0                  6  75, rue du Faubourg St-Honoré           None      Paris   \n",
      "1                  7                Piazza Duomo, 1           None     Milano   \n",
      "2                  9            Singelgravenplein 4  4e verdieping  Amsterdam   \n",
      "3                 13                 Schwabentor 35           None    Hamburg   \n",
      "4                 14               Leopoldstraße 36           None    München   \n",
      "\n",
      "          REGION POSTAL_ZONE  COUNTRY_CODE  \n",
      "0           None     F-75008             1  \n",
      "1           None     I-20121             6  \n",
      "2  Noord-Holland     1233 BW             7  \n",
      "3           None     D-22529             2  \n",
      "4           None     D-81241             2   \n",
      "\n",
      "Tabel: retailer_site\n",
      "   RETAILER_SITE_CODE  RETAILER_CODE            ADDRESS1 ADDRESS2  \\\n",
      "0                   1             89  1117 Franklin Blvd     None   \n",
      "1                   2             89     45, rue Atwater     None   \n",
      "2                   3             89    328 Hodgson Road     None   \n",
      "3                   4             90      2425, rue Peel     None   \n",
      "4                   5             90       34 8th Avenue     None   \n",
      "\n",
      "          CITY         REGION POSTAL_ZONE  COUNTRY_CODE  ACTIVE_INDICATOR  \n",
      "0     Winnipeg       Manitoba     R2C 0M5             4                 1  \n",
      "1     Montréal         Québec     H2T 9K8             4                 1  \n",
      "2  Fredericton  New Brunswick     E3B 2H2             4                 1  \n",
      "3     Montréal         Québec     H4G 3T4             4                 1  \n",
      "4      Sudbury        Ontario     M5V 1G5             4                 1   \n",
      "\n",
      "Tabel: country\n",
      "   COUNTRY_CODE        COUNTRY LANGUAGE CURRENCY_NAME\n",
      "0             1         France       EN        francs\n",
      "1             2        Germany       EN         marks\n",
      "2             3  United States       EN       dollars\n",
      "3             4         Canada       EN       dollars\n",
      "4             5        Austria       EN    schillings \n",
      "\n",
      "Tabel: order_header\n",
      "   ORDER_NUMBER RETAILER_NAME  RETAILER_SITE_CODE  RETAILER_CONTACT_CODE  \\\n",
      "0          1153  Ultra Sports                   4                      6   \n",
      "1          1154  Ultra Sports                   4                      6   \n",
      "2          1155  Ultra Sports                   5                     65   \n",
      "3          1156  Ultra Sports                   5                     65   \n",
      "4          1157  Ultra Sports                   6                     66   \n",
      "\n",
      "   SALES_STAFF_CODE  SALES_BRANCH_CODE  ORDER_DATE  ORDER_METHOD_CODE  \n",
      "0                50                 18  2022-04-14                  7  \n",
      "1                50                 18  2022-10-01                  4  \n",
      "2                49                 18  2022-04-21                  7  \n",
      "3                49                 18  2022-09-09                  5  \n",
      "4                50                 18  2022-04-10                  2   \n",
      "\n",
      "Tabel: order_details\n",
      "   ORDER_DETAIL_CODE  ORDER_NUMBER  PRODUCT_NUMBER  QUANTITY  UNIT_COST  \\\n",
      "0              47737          1638               1        84       4.38   \n",
      "1              47738          1159               1       126       4.38   \n",
      "2              47739          1171               1       122       4.38   \n",
      "3              47740          1154               1       122       4.38   \n",
      "4              47741          1205               1       272       4.38   \n",
      "\n",
      "   UNIT_PRICE  UNIT_SALE_PRICE  \n",
      "0        6.59             6.59  \n",
      "1        6.59             6.59  \n",
      "2        6.59             6.03  \n",
      "3        6.59             6.59  \n",
      "4        6.59             5.26   \n",
      "\n",
      "Tabel: returned_item\n",
      "   RETURN_CODE          RETURN_DATE  ORDER_DETAIL_CODE  RETURN_REASON_CODE  \\\n",
      "0         1491  Aug  1 2023  4:10AM              84858                   5   \n",
      "1         1492  Dec  6 2022  6:46PM              84440                   2   \n",
      "2         1493  Jun 24 2023  9:23AM              84867                   4   \n",
      "3         1494  Jul 21 2023 12:00AM              84873                   3   \n",
      "4         1496  Oct  7 2022  5:13AM              84488                   1   \n",
      "\n",
      "   RETURN_QUANTITY  \n",
      "0                8  \n",
      "1                2  \n",
      "2               22  \n",
      "3               20  \n",
      "4                2   \n",
      "\n",
      "Tabel: return_reason\n",
      "   RETURN_REASON_CODE   RETURN_DESCRIPTION_EN\n",
      "0                   1       Defective product\n",
      "1                   2      Incomplete product\n",
      "2                   3   Wrong product ordered\n",
      "3                   4   Wrong product shipped\n",
      "4                   5  Unsatisfactory product \n",
      "\n"
     ]
    }
   ],
   "source": [
    "import pandas as pd\n",
    "import sqlite3\n",
    "\n",
    "# Databasepad instellen\n",
    "db_path = \"sqlite/go_sales_train.sqlite\"\n",
    "\n",
    "# Verbinding maken met de database\n",
    "conn = sqlite3.connect(db_path)\n",
    "\n",
    "# Lijst met tabellen die ingelezen moeten worden\n",
    "tables = [\n",
    "    \"product\", \"product_type\", \"product_line\", \"sales_staff\",\n",
    "    \"sales_branch\", \"retailer_site\", \"country\", \"order_header\",\n",
    "    \"order_details\", \"returned_item\", \"return_reason\"\n",
    "]\n",
    "\n",
    "# Gegevens inlezen en weergeven\n",
    "dataframes = {}\n",
    "for table in tables:\n",
    "    query = f\"SELECT * FROM {table}\"\n",
    "    df = pd.read_sql_query(query, conn)\n",
    "    dataframes[table] = df\n",
    "    print(f\"Tabel: {table}\")\n",
    "    print(df.head(), \"\\n\")\n",
    "\n",
    "# Verbinding sluiten\n",
    "conn.close()\n"
   ]
  },
  {
   "cell_type": "markdown",
   "metadata": {},
   "source": [
    "Krijg je een \"no such table\" error? Dan heb je misschien met .connect() per ongeluk een leeg  databasebestand (.sqlite) aangemaakt. <u>Let op:</u> lees eventueel de informatie uit het Notebook van werkcollege 1.1b nog eens goed door."
   ]
  },
  {
   "cell_type": "markdown",
   "metadata": {},
   "source": [
    "Als je tijdens onderstaande opdrachten uit het oog verliest welke tabellen er allemaal zijn, kan je deze Pythoncode uitvoeren:"
   ]
  },
  {
   "cell_type": "code",
   "execution_count": null,
   "metadata": {},
   "outputs": [],
   "source": [
    "sql_query = \"SELECT name FROM sqlite_master WHERE type='table';\"\n",
    "#Vul dit codeblok verder in\n",
    "pd.read_sql(sql_query, ...)\n",
    "#Op de puntjes hoort de connectie naar go_sales_train óf go_staff_train óf go_crm_train te staan."
   ]
  },
  {
   "cell_type": "markdown",
   "metadata": {},
   "source": [
    "erachter "
   ]
  },
  {
   "cell_type": "markdown",
   "metadata": {},
   "source": [
    "Let op! Voor alle onderstaande opdrachten mag je <u>alleen Python</u> gebruiken, <u>geen SQL!</u>"
   ]
  },
  {
   "cell_type": "markdown",
   "metadata": {},
   "source": [
    "## Selecties op één tabel zonder functies"
   ]
  },
  {
   "cell_type": "markdown",
   "metadata": {},
   "source": [
    "Geef een overzicht met daarin de producten en hun productiekosten waarvan de productiekosten lager dan 100 dollar en hoger dan 50 dollar ligt. (2 kolommen, 23 rijen)"
   ]
  },
  {
   "cell_type": "code",
   "execution_count": 3,
   "metadata": {},
   "outputs": [
    {
     "name": "stdout",
     "output_type": "stream",
     "text": [
      "                       PRODUCT_NAME  PRODUCTION_COST\n",
      "0         TrailChef Deluxe Cook Set            85.11\n",
      "1            TrailChef Double Flame            75.00\n",
      "2                   Hibernator Lite            60.00\n",
      "3                        Hibernator            86.00\n",
      "4   Hibernator Self - Inflating Mat            78.55\n",
      "5               Hibernator Camp Cot            65.33\n",
      "6      Canyon Mule Climber Backpack            62.50\n",
      "7           Granite Climbing Helmet            52.86\n",
      "8             Husky Harness Extreme            55.00\n",
      "9                    Granite Hammer            57.13\n",
      "10                        Polar Ice            73.33\n",
      "11                     Polar Sports            80.00\n",
      "12                       Polar Wave            60.00\n",
      "13                    Polar Extreme            72.50\n",
      "14                     Edge Extreme            80.00\n",
      "15                        Seeker 35            79.19\n",
      "16                        Seeker 50            92.58\n",
      "17                   Seeker Extreme            94.12\n",
      "18                   Glacier Deluxe            56.25\n",
      "19                      Glacier GPS            78.55\n",
      "20                Blue Steel Putter            60.00\n",
      "21            Blue Steel Max Putter            81.80\n",
      "22              Course Pro Golf Bag            80.00\n"
     ]
    }
   ],
   "source": [
    "import sqlite3\n",
    "import pandas as pd\n",
    "\n",
    "# Databasepad instellen\n",
    "db_path = \"sqlite/go_sales_train.sqlite\"\n",
    "\n",
    "# Verbinding maken met de database\n",
    "conn = sqlite3.connect(db_path)\n",
    "\n",
    "# SQL-query uitvoeren\n",
    "query = \"\"\"\n",
    "SELECT PRODUCT_NAME, PRODUCTION_COST \n",
    "FROM product \n",
    "WHERE PRODUCTION_COST > 50 AND PRODUCTION_COST < 100\n",
    "\"\"\"\n",
    "\n",
    "# Data inlezen in een DataFrame\n",
    "df_selected_products = pd.read_sql_query(query, conn)\n",
    "\n",
    "# Verbinding sluiten\n",
    "conn.close()\n",
    "\n",
    "# Resultaten weergeven\n",
    "print(df_selected_products)\n"
   ]
  },
  {
   "cell_type": "markdown",
   "metadata": {},
   "source": [
    "Geef een overzicht met daarin de producten en hun marge waarvan de marge lager dan 20 % of hoger dan 60 % ligt. (2 kolommen, 7 rijen) "
   ]
  },
  {
   "cell_type": "code",
   "execution_count": 4,
   "metadata": {},
   "outputs": [
    {
     "name": "stdout",
     "output_type": "stream",
     "text": [
      "                   PRODUCT_NAME  MARGIN\n",
      "0                Hibernator Pad    0.17\n",
      "1  Canyon Mule Climber Backpack    0.17\n",
      "2             BugShield Natural    0.67\n",
      "3               BugShield Spray    0.67\n",
      "4         BugShield Lotion Lite    0.70\n",
      "5              BugShield Lotion    0.63\n",
      "6             BugShield Extreme    0.63\n"
     ]
    }
   ],
   "source": [
    "import sqlite3\n",
    "import pandas as pd\n",
    "\n",
    "# Databasepad instellen\n",
    "db_path = \"sqlite/go_sales_train.sqlite\"\n",
    "\n",
    "# Verbinding maken met de database\n",
    "conn = sqlite3.connect(db_path)\n",
    "\n",
    "# SQL-query uitvoeren\n",
    "query = \"\"\"\n",
    "SELECT PRODUCT_NAME, MARGIN \n",
    "FROM product \n",
    "WHERE MARGIN < 0.20 OR MARGIN > 0.60\n",
    "\"\"\"\n",
    "\n",
    "# Data inlezen in een DataFrame\n",
    "df_selected_margins = pd.read_sql_query(query, conn)\n",
    "\n",
    "# Verbinding sluiten\n",
    "conn.close()\n",
    "\n",
    "# Resultaten weergeven\n",
    "print(df_selected_margins)\n"
   ]
  },
  {
   "cell_type": "markdown",
   "metadata": {},
   "source": [
    "Geef een overzicht met daarin de landen waar met francs wordt betaald. Sorteer de uitkomst op land.  (1 kolom, 3 rijen)"
   ]
  },
  {
   "cell_type": "code",
   "execution_count": 5,
   "metadata": {},
   "outputs": [
    {
     "name": "stdout",
     "output_type": "stream",
     "text": [
      "       COUNTRY\n",
      "0      Belgium\n",
      "1       France\n",
      "2  Switzerland\n"
     ]
    }
   ],
   "source": [
    "import sqlite3\n",
    "import pandas as pd\n",
    "\n",
    "# Databasepad instellen\n",
    "db_path = \"sqlite/go_sales_train.sqlite\"\n",
    "\n",
    "# Verbinding maken met de database\n",
    "conn = sqlite3.connect(db_path)\n",
    "\n",
    "# SQL-query uitvoeren\n",
    "query = \"\"\"\n",
    "SELECT COUNTRY \n",
    "FROM country \n",
    "WHERE CURRENCY_NAME = 'francs'\n",
    "ORDER BY COUNTRY;\n",
    "\"\"\"\n",
    "\n",
    "# Data inlezen in een DataFrame\n",
    "df_franc_countries = pd.read_sql_query(query, conn)\n",
    "\n",
    "# Verbinding sluiten\n",
    "conn.close()\n",
    "\n",
    "# Resultaten weergeven\n",
    "print(df_franc_countries)\n"
   ]
  },
  {
   "cell_type": "markdown",
   "metadata": {},
   "source": [
    "Geef een overzicht met daarin de verschillende introductiedatums waarop producten met meer dan 50% marge worden geïntroduceerd (1 kolom, 7 rijen) "
   ]
  },
  {
   "cell_type": "code",
   "execution_count": 6,
   "metadata": {},
   "outputs": [
    {
     "name": "stdout",
     "output_type": "stream",
     "text": [
      "  INTRODUCTION_DATE\n",
      "0        2000-10-26\n",
      "1        1995-02-15\n",
      "2        2003-12-10\n",
      "3        2003-12-18\n",
      "4        2003-12-27\n",
      "5        2004-01-13\n",
      "6        2003-12-15\n"
     ]
    }
   ],
   "source": [
    "import sqlite3\n",
    "import pandas as pd\n",
    "\n",
    "# Databasepad instellen\n",
    "db_path = \"sqlite/go_sales_train.sqlite\"\n",
    "\n",
    "# Verbinding maken met de database\n",
    "conn = sqlite3.connect(db_path)\n",
    "\n",
    "# SQL-query uitvoeren\n",
    "query = \"\"\"\n",
    "SELECT DISTINCT INTRODUCTION_DATE \n",
    "FROM product \n",
    "WHERE MARGIN > 0.50;\n",
    "\"\"\"\n",
    "\n",
    "# Data inlezen in een DataFrame\n",
    "df_intro_dates = pd.read_sql_query(query, conn)\n",
    "\n",
    "# Verbinding sluiten\n",
    "conn.close()\n",
    "\n",
    "# Resultaten weergeven\n",
    "print(df_intro_dates)\n"
   ]
  },
  {
   "cell_type": "markdown",
   "metadata": {},
   "source": [
    "Geef een overzicht met daarin het eerste adres en de stad van verkoopafdelingen waarvan zowel het tweede adres als de regio bekend is (2 kolommen, 7 rijen)"
   ]
  },
  {
   "cell_type": "code",
   "execution_count": 7,
   "metadata": {},
   "outputs": [
    {
     "name": "stdout",
     "output_type": "stream",
     "text": [
      "                           ADDRESS1              CITY\n",
      "0               Singelgravenplein 4         Amsterdam\n",
      "1  Prol. Paseo de la Reforma No. 51  Distrito Federal\n",
      "2               202-2-3 Hyakunincho             Tokyo\n",
      "3                     543-225 Asahi        Osaka City\n",
      "4                  2315 Queen's Ave         Melbourne\n",
      "5             Avenida Paulista, 333         São Paulo\n",
      "6                    3 Albany Court        Birmingham\n"
     ]
    }
   ],
   "source": [
    "import sqlite3\n",
    "import pandas as pd\n",
    "\n",
    "# Databasepad instellen\n",
    "db_path = \"sqlite/go_sales_train.sqlite\"\n",
    "\n",
    "# Verbinding maken met de database\n",
    "conn = sqlite3.connect(db_path)\n",
    "\n",
    "# SQL-query uitvoeren\n",
    "query = \"\"\"\n",
    "SELECT ADDRESS1, CITY \n",
    "FROM sales_branch \n",
    "WHERE ADDRESS2 IS NOT NULL AND REGION IS NOT NULL;\n",
    "\"\"\"\n",
    "\n",
    "# Data inlezen in een DataFrame\n",
    "df_sales_branches = pd.read_sql_query(query, conn)\n",
    "\n",
    "# Verbinding sluiten\n",
    "conn.close()\n",
    "\n",
    "# Resultaten weergeven\n",
    "print(df_sales_branches)\n"
   ]
  },
  {
   "cell_type": "markdown",
   "metadata": {},
   "source": [
    "Geef een overzicht met daarin de landen waar met dollars (dollars of new dollar) wordt betaald. Sorteer de uitkomst op land. (1 kolom, 4 rijen) "
   ]
  },
  {
   "cell_type": "code",
   "execution_count": 8,
   "metadata": {},
   "outputs": [
    {
     "name": "stdout",
     "output_type": "stream",
     "text": [
      "         COUNTRY\n",
      "0      Australia\n",
      "1         Canada\n",
      "2         Taiwan\n",
      "3  United States\n"
     ]
    }
   ],
   "source": [
    "import sqlite3\n",
    "import pandas as pd\n",
    "\n",
    "# Databasepad instellen\n",
    "db_path = \"sqlite/go_sales_train.sqlite\"\n",
    "\n",
    "# Verbinding maken met de database\n",
    "conn = sqlite3.connect(db_path)\n",
    "\n",
    "# SQL-query uitvoeren\n",
    "query = \"\"\"\n",
    "SELECT COUNTRY \n",
    "FROM country \n",
    "WHERE CURRENCY_NAME LIKE '%dollar%'\n",
    "ORDER BY COUNTRY;\n",
    "\"\"\"\n",
    "\n",
    "# Data inlezen in een DataFrame\n",
    "df_dollar_countries = pd.read_sql_query(query, conn)\n",
    "\n",
    "# Verbinding sluiten\n",
    "conn.close()\n",
    "\n",
    "# Resultaten weergeven\n",
    "print(df_dollar_countries)\n"
   ]
  },
  {
   "cell_type": "markdown",
   "metadata": {},
   "source": [
    "Geef een overzicht met daarin beide adressen en de stad van vestigingen van klanten waarvan de postcode begint met een ‘D’ (van duitsland). Filter op vestigingen die een tweede adres hebben. (3 kolommen, 2 rijen) "
   ]
  },
  {
   "cell_type": "code",
   "execution_count": 9,
   "metadata": {},
   "outputs": [
    {
     "name": "stdout",
     "output_type": "stream",
     "text": [
      "           ADDRESS1       ADDRESS2       CITY\n",
      "0  Röntgenstraße 90  3. Tür rechts  Frankfurt\n",
      "1   Grubesallee 141       4. Stock    Hamburg\n"
     ]
    }
   ],
   "source": [
    "import sqlite3\n",
    "import pandas as pd\n",
    "\n",
    "# Databasepad instellen\n",
    "db_path = \"sqlite/go_sales_train.sqlite\"\n",
    "\n",
    "# Verbinding maken met de database\n",
    "conn = sqlite3.connect(db_path)\n",
    "\n",
    "# SQL-query uitvoeren\n",
    "query = \"\"\"\n",
    "SELECT ADDRESS1, ADDRESS2, CITY \n",
    "FROM retailer_site \n",
    "WHERE POSTAL_ZONE LIKE 'D%' \n",
    "AND ADDRESS2 IS NOT NULL;\n",
    "\"\"\"\n",
    "\n",
    "# Data inlezen in een DataFrame\n",
    "df_german_retailers = pd.read_sql_query(query, conn)\n",
    "\n",
    "# Verbinding sluiten\n",
    "conn.close()\n",
    "\n",
    "# Resultaten weergeven\n",
    "print(df_german_retailers)\n"
   ]
  },
  {
   "cell_type": "markdown",
   "metadata": {},
   "source": [
    "## Selecties op één tabel met functies"
   ]
  },
  {
   "cell_type": "markdown",
   "metadata": {},
   "source": [
    "Geef het totaal aantal producten dat is teruggebracht (1 waarde) "
   ]
  },
  {
   "cell_type": "code",
   "execution_count": 10,
   "metadata": {},
   "outputs": [
    {
     "name": "stdout",
     "output_type": "stream",
     "text": [
      "   TOTAL_RETURNED_PRODUCTS\n",
      "0                    11908\n"
     ]
    }
   ],
   "source": [
    "import sqlite3\n",
    "import pandas as pd\n",
    "\n",
    "# Databasepad instellen\n",
    "db_path = \"sqlite/go_sales_train.sqlite\"\n",
    "\n",
    "# Verbinding maken met de database\n",
    "conn = sqlite3.connect(db_path)\n",
    "\n",
    "# SQL-query uitvoeren\n",
    "query = \"\"\"\n",
    "SELECT SUM(RETURN_QUANTITY) AS TOTAL_RETURNED_PRODUCTS \n",
    "FROM returned_item;\n",
    "\"\"\"\n",
    "\n",
    "# Data inlezen in een DataFrame\n",
    "df_total_returns = pd.read_sql_query(query, conn)\n",
    "\n",
    "# Verbinding sluiten\n",
    "conn.close()\n",
    "\n",
    "# Resultaten weergeven\n",
    "print(df_total_returns)\n"
   ]
  },
  {
   "cell_type": "markdown",
   "metadata": {},
   "source": [
    "Geef het aantal regio’s waarin verkoopafdelingen gevestigd zijn. (1 waarde)"
   ]
  },
  {
   "cell_type": "code",
   "execution_count": 11,
   "metadata": {},
   "outputs": [
    {
     "name": "stdout",
     "output_type": "stream",
     "text": [
      "   TOTAL_REGIONS\n",
      "0             15\n"
     ]
    }
   ],
   "source": [
    "import sqlite3\n",
    "import pandas as pd\n",
    "\n",
    "# Databasepad instellen\n",
    "db_path = \"sqlite/go_sales_train.sqlite\"\n",
    "\n",
    "# Verbinding maken met de database\n",
    "conn = sqlite3.connect(db_path)\n",
    "\n",
    "# SQL-query uitvoeren\n",
    "query = \"\"\"\n",
    "SELECT COUNT(DISTINCT REGION) AS TOTAL_REGIONS \n",
    "FROM sales_branch;\n",
    "\"\"\"\n",
    "\n",
    "# Data inlezen in een DataFrame\n",
    "df_total_regions = pd.read_sql_query(query, conn)\n",
    "\n",
    "# Verbinding sluiten\n",
    "conn.close()\n",
    "\n",
    "# Resultaten weergeven\n",
    "print(df_total_regions)\n"
   ]
  },
  {
   "cell_type": "markdown",
   "metadata": {},
   "source": [
    "Maak 3 variabelen:\n",
    "- Een met de laagste\n",
    "- Een met de hoogste\n",
    "- Een met de gemiddelde (afgerond op 2 decimalen)\n",
    "\n",
    "marge van producten (3 kolommen, 1 rij) "
   ]
  },
  {
   "cell_type": "code",
   "execution_count": 13,
   "metadata": {},
   "outputs": [
    {
     "name": "stdout",
     "output_type": "stream",
     "text": [
      "   LOWEST_MARGIN  HIGHEST_MARGIN  AVERAGE_MARGIN\n",
      "0           0.17             0.7             0.4\n"
     ]
    }
   ],
   "source": [
    "import sqlite3\n",
    "import pandas as pd\n",
    "\n",
    "# Databasepad instellen\n",
    "db_path = \"sqlite/go_sales_train.sqlite\"\n",
    "\n",
    "# Verbinding maken met de database\n",
    "conn = sqlite3.connect(db_path)\n",
    "\n",
    "# SQL-query uitvoeren\n",
    "query = \"\"\"\n",
    "SELECT \n",
    "    MIN(MARGIN) AS LOWEST_MARGIN, \n",
    "    MAX(MARGIN) AS HIGHEST_MARGIN, \n",
    "    ROUND(AVG(MARGIN), 2) AS AVERAGE_MARGIN\n",
    "FROM product;\n",
    "\"\"\"\n",
    "\n",
    "# Data inlezen in een DataFrame\n",
    "df_margins = pd.read_sql_query(query, conn)\n",
    "\n",
    "# Verbinding sluiten\n",
    "conn.close()\n",
    "\n",
    "# Resultaten weergeven\n",
    "print(df_margins)\n"
   ]
  },
  {
   "cell_type": "markdown",
   "metadata": {},
   "source": [
    "Geef het aantal vestigingen van klanten waarvan het 2e adres niet bekend is (1 waarde)"
   ]
  },
  {
   "cell_type": "code",
   "execution_count": 14,
   "metadata": {},
   "outputs": [
    {
     "name": "stdout",
     "output_type": "stream",
     "text": [
      "   TOTAL_SITES_WITHOUT_ADDRESS2\n",
      "0                           286\n"
     ]
    }
   ],
   "source": [
    "import sqlite3\n",
    "import pandas as pd\n",
    "\n",
    "# Databasepad instellen\n",
    "db_path = \"sqlite/go_sales_train.sqlite\"\n",
    "\n",
    "# Verbinding maken met de database\n",
    "conn = sqlite3.connect(db_path)\n",
    "\n",
    "# SQL-query uitvoeren\n",
    "query = \"\"\"\n",
    "SELECT COUNT(*) AS TOTAL_SITES_WITHOUT_ADDRESS2\n",
    "FROM retailer_site\n",
    "WHERE ADDRESS2 IS NULL;\n",
    "\"\"\"\n",
    "\n",
    "# Data inlezen in een DataFrame\n",
    "df_sites_without_address2 = pd.read_sql_query(query, conn)\n",
    "\n",
    "# Verbinding sluiten\n",
    "conn.close()\n",
    "\n",
    "# Resultaten weergeven\n",
    "print(df_sites_without_address2)\n"
   ]
  },
  {
   "cell_type": "markdown",
   "metadata": {},
   "source": [
    "Geef de gemiddelde kostprijs van de verkochte producten waarop korting (unit_sale_price < unit_price) is verleend (1 waarde) "
   ]
  },
  {
   "cell_type": "code",
   "execution_count": 15,
   "metadata": {},
   "outputs": [
    {
     "name": "stdout",
     "output_type": "stream",
     "text": [
      "   AVERAGE_COST_PRICE\n",
      "0              127.34\n"
     ]
    }
   ],
   "source": [
    "import sqlite3\n",
    "import pandas as pd\n",
    "\n",
    "# Databasepad instellen\n",
    "db_path = \"sqlite/go_sales_train.sqlite\"\n",
    "\n",
    "# Verbinding maken met de database\n",
    "conn = sqlite3.connect(db_path)\n",
    "\n",
    "# SQL-query uitvoeren\n",
    "query = \"\"\"\n",
    "SELECT ROUND(AVG(UNIT_COST), 2) AS AVERAGE_COST_PRICE\n",
    "FROM order_details\n",
    "WHERE UNIT_SALE_PRICE < UNIT_PRICE;\n",
    "\"\"\"\n",
    "\n",
    "# Data inlezen in een DataFrame\n",
    "df_avg_cost_discounted = pd.read_sql_query(query, conn)\n",
    "\n",
    "# Verbinding sluiten\n",
    "conn.close()\n",
    "\n",
    "# Resultaten weergeven\n",
    "print(df_avg_cost_discounted)\n"
   ]
  },
  {
   "cell_type": "markdown",
   "metadata": {},
   "source": [
    "Geef een overzicht met daarin het aantal medewerkers per medewerkersfunctie (2 kolommen, 7 rijen) "
   ]
  },
  {
   "cell_type": "code",
   "execution_count": 16,
   "metadata": {},
   "outputs": [
    {
     "name": "stdout",
     "output_type": "stream",
     "text": [
      "                   JOB_POSITION  TOTAL_EMPLOYEES\n",
      "0                Branch Manager               19\n",
      "1              District Manager                4\n",
      "2               General Manager                1\n",
      "3  Level 1 Sales Representative               13\n",
      "4  Level 2 Sales Representative               39\n",
      "5  Level 3 Sales Representative               24\n",
      "6              Regional Manager                2\n"
     ]
    }
   ],
   "source": [
    "import sqlite3\n",
    "import pandas as pd\n",
    "\n",
    "# Databasepad instellen\n",
    "db_path = \"sqlite/go_sales_train.sqlite\"\n",
    "\n",
    "# Verbinding maken met de database\n",
    "conn = sqlite3.connect(db_path)\n",
    "\n",
    "# SQL-query uitvoeren\n",
    "query = \"\"\"\n",
    "SELECT POSITION_EN AS JOB_POSITION, COUNT(*) AS TOTAL_EMPLOYEES\n",
    "FROM sales_staff\n",
    "GROUP BY POSITION_EN;\n",
    "\"\"\"\n",
    "\n",
    "# Data inlezen in een DataFrame\n",
    "df_staff_count = pd.read_sql_query(query, conn)\n",
    "\n",
    "# Verbinding sluiten\n",
    "conn.close()\n",
    "\n",
    "# Resultaten weergeven\n",
    "print(df_staff_count)\n"
   ]
  },
  {
   "cell_type": "markdown",
   "metadata": {},
   "source": [
    "Geef een overzicht met daarin per telefoonnummer het aantal medewerkers dat op dat telefoonnummer bereikbaar is. Toon alleen de telefoonnummer waarop meer dan 4 medewerkers bereikbaar zijn. (2 kolommen, 10 rijen) "
   ]
  },
  {
   "cell_type": "code",
   "execution_count": 17,
   "metadata": {},
   "outputs": [
    {
     "name": "stdout",
     "output_type": "stream",
     "text": [
      "          PHONE_NUMBER  EMPLOYEE_COUNT\n",
      "0    +(44) 121 3505267               5\n",
      "1  +(61) 03 2982  4242               5\n",
      "2  +31 (0)20 692 93 94               5\n",
      "3    +33 1 68 94 52 20               5\n",
      "4     1 (206) 292-0012               5\n",
      "5     1 (305) 557-4810               6\n",
      "6     1 (310) 281-5722               5\n",
      "7     1 (403) 232-5986               5\n",
      "8     1 (416) 493-5595               5\n",
      "9     1 (617) 268-6754               6\n"
     ]
    }
   ],
   "source": [
    "import sqlite3\n",
    "import pandas as pd\n",
    "\n",
    "# Databasepad instellen\n",
    "db_path = \"sqlite/go_sales_train.sqlite\"\n",
    "\n",
    "# Verbinding maken met de database\n",
    "conn = sqlite3.connect(db_path)\n",
    "\n",
    "# SQL-query uitvoeren\n",
    "query = \"\"\"\n",
    "SELECT WORK_PHONE AS PHONE_NUMBER, COUNT(*) AS EMPLOYEE_COUNT\n",
    "FROM sales_staff\n",
    "GROUP BY WORK_PHONE\n",
    "HAVING COUNT(*) > 4;\n",
    "\"\"\"\n",
    "\n",
    "# Data inlezen in een DataFrame\n",
    "df_phone_count = pd.read_sql_query(query, conn)\n",
    "\n",
    "# Verbinding sluiten\n",
    "conn.close()\n",
    "\n",
    "# Resultaten weergeven\n",
    "print(df_phone_count)\n"
   ]
  },
  {
   "cell_type": "markdown",
   "metadata": {},
   "source": [
    "## Selecties op meerdere tabellen zonder functies"
   ]
  },
  {
   "cell_type": "markdown",
   "metadata": {},
   "source": [
    "Geef een overzicht met daarin het eerste adres en de stad van vestigingen van klanten uit ‘Netherlands’ (2 kolommen, 20 rijen) "
   ]
  },
  {
   "cell_type": "code",
   "execution_count": 18,
   "metadata": {},
   "outputs": [
    {
     "name": "stdout",
     "output_type": "stream",
     "text": [
      "                     ADDRESS1          CITY\n",
      "0      Amsterdamsestraatweg 8      Maarssen\n",
      "1                    Beets 36         Beets\n",
      "2                Duivendaal 1    Wageningen\n",
      "3             Gooiergracht 91         Laren\n",
      "4               Havenbuurt 12        Marken\n",
      "5               Hogehilweg 13     Amsterdam\n",
      "6             Hoofdstraat 150   Pieterburen\n",
      "7              Kalfjeslaan 47    Amstelveen\n",
      "8         Krayenhoffstraat 11     Amsterdam\n",
      "9   Laan van Meerdervoort 966      Den Haag\n",
      "10      Noorderspoorsingel 28     Groningen\n",
      "11                Olde Diek 2         Laren\n",
      "12         Overschiestraat 19     Amsterdam\n",
      "13               Perestraat 1      Deventer\n",
      "14             Spoorstraat 43    Varsseveld\n",
      "15         Stadhouderslaan 18     Rotterdam\n",
      "16               Startbaan 11    Amstelveen\n",
      "17              Voorstraat 37  Nieuweschans\n",
      "18             Westhavenweg 8     Amsterdam\n",
      "19              Westzeedijk 4        Muiden\n"
     ]
    }
   ],
   "source": [
    "import sqlite3\n",
    "import pandas as pd\n",
    "\n",
    "# Databasepad instellen\n",
    "db_path = \"sqlite/go_sales_train.sqlite\"\n",
    "\n",
    "# Verbinding maken met de database\n",
    "conn = sqlite3.connect(db_path)\n",
    "\n",
    "# SQL-query uitvoeren\n",
    "query = \"\"\"\n",
    "SELECT r.ADDRESS1, r.CITY\n",
    "FROM retailer_site r\n",
    "JOIN country c ON r.COUNTRY_CODE = c.COUNTRY_CODE\n",
    "WHERE c.COUNTRY = 'Netherlands';\n",
    "\"\"\"\n",
    "\n",
    "# Data inlezen in een DataFrame\n",
    "df_netherlands_sites = pd.read_sql_query(query, conn)\n",
    "\n",
    "# Verbinding sluiten\n",
    "conn.close()\n",
    "\n",
    "# Resultaten weergeven\n",
    "print(df_netherlands_sites)\n"
   ]
  },
  {
   "cell_type": "markdown",
   "metadata": {},
   "source": [
    "Geef een overzicht met daarin de productnamen die tot het producttype ‘Eyewear’ behoren. (1 kolom, 5 rijen) "
   ]
  },
  {
   "cell_type": "code",
   "execution_count": 19,
   "metadata": {},
   "outputs": [
    {
     "name": "stdout",
     "output_type": "stream",
     "text": [
      "    PRODUCT_NAME\n",
      "0  Polar Extreme\n",
      "1      Polar Ice\n",
      "2   Polar Sports\n",
      "3      Polar Sun\n",
      "4     Polar Wave\n"
     ]
    }
   ],
   "source": [
    "import sqlite3\n",
    "import pandas as pd\n",
    "\n",
    "# Databasepad instellen\n",
    "db_path = \"sqlite/go_sales_train.sqlite\"\n",
    "\n",
    "# Verbinding maken met de database\n",
    "conn = sqlite3.connect(db_path)\n",
    "\n",
    "# SQL-query uitvoeren\n",
    "query = \"\"\"\n",
    "SELECT p.PRODUCT_NAME\n",
    "FROM product p\n",
    "JOIN product_type pt ON p.PRODUCT_TYPE_CODE = pt.PRODUCT_TYPE_CODE\n",
    "WHERE pt.PRODUCT_TYPE_EN = 'Eyewear';\n",
    "\"\"\"\n",
    "\n",
    "# Data inlezen in een DataFrame\n",
    "df_eyewear_products = pd.read_sql_query(query, conn)\n",
    "\n",
    "# Verbinding sluiten\n",
    "conn.close()\n",
    "\n",
    "# Resultaten weergeven\n",
    "print(df_eyewear_products)\n"
   ]
  },
  {
   "cell_type": "markdown",
   "metadata": {},
   "source": [
    "Geef een overzicht met daarin alle unieke eerste adressen van klantvestigingen en de voornaam en achternaam van de verkopers die ‘Branch Manager’ zijn en aan deze vestigingen hebben verkocht (3 kolommen, 1 rij) "
   ]
  },
  {
   "cell_type": "code",
   "execution_count": 20,
   "metadata": {},
   "outputs": [
    {
     "name": "stdout",
     "output_type": "stream",
     "text": [
      "               ADDRESS1 FIRST_NAME LAST_NAME\n",
      "0  Alameda Santos, 9876     Bayard     Lopes\n"
     ]
    }
   ],
   "source": [
    "import sqlite3\n",
    "import pandas as pd\n",
    "\n",
    "# Databasepad instellen\n",
    "db_path = \"sqlite/go_sales_train.sqlite\"\n",
    "\n",
    "# Verbinding maken met de database\n",
    "conn = sqlite3.connect(db_path)\n",
    "\n",
    "# SQL-query uitvoeren\n",
    "query = \"\"\"\n",
    "SELECT DISTINCT r.ADDRESS1, s.FIRST_NAME, s.LAST_NAME\n",
    "FROM retailer_site r\n",
    "JOIN order_header o ON r.RETAILER_SITE_CODE = o.RETAILER_SITE_CODE\n",
    "JOIN sales_staff s ON o.SALES_STAFF_CODE = s.SALES_STAFF_CODE\n",
    "WHERE s.POSITION_EN = 'Branch Manager';\n",
    "\"\"\"\n",
    "\n",
    "# Data inlezen in een DataFrame\n",
    "df_branch_manager_sales = pd.read_sql_query(query, conn)\n",
    "\n",
    "# Verbinding sluiten\n",
    "conn.close()\n",
    "\n",
    "# Resultaten weergeven\n",
    "print(df_branch_manager_sales)\n"
   ]
  },
  {
   "cell_type": "markdown",
   "metadata": {},
   "source": [
    "Geef een overzicht met daarin van de verkopers hun functie en indien zij iets hebben verkocht de datum waarop de verkoop heeft plaatsgevonden. Laat alleen de verschillende namen van de posities zien van de verkopers die het woord ‘Manager’ in hun positienaam hebben staan. (2 kolommen, 7 rijen) "
   ]
  },
  {
   "cell_type": "code",
   "execution_count": 21,
   "metadata": {},
   "outputs": [
    {
     "name": "stdout",
     "output_type": "stream",
     "text": [
      "        POSITION_EN  ORDER_DATE\n",
      "0    Branch Manager        None\n",
      "1  Regional Manager        None\n",
      "2  District Manager        None\n",
      "3    Branch Manager  2024-01-09\n",
      "4    Branch Manager  2024-03-13\n",
      "5    Branch Manager  2024-09-09\n",
      "6   General Manager        None\n"
     ]
    }
   ],
   "source": [
    "import sqlite3\n",
    "import pandas as pd\n",
    "\n",
    "# Databasepad instellen\n",
    "db_path = \"sqlite/go_sales_train.sqlite\"\n",
    "\n",
    "# Verbinding maken met de database\n",
    "conn = sqlite3.connect(db_path)\n",
    "\n",
    "# SQL-query uitvoeren\n",
    "query = \"\"\"\n",
    "SELECT DISTINCT s.POSITION_EN, o.ORDER_DATE\n",
    "FROM sales_staff s\n",
    "LEFT JOIN order_header o ON s.SALES_STAFF_CODE = o.SALES_STAFF_CODE\n",
    "WHERE s.POSITION_EN LIKE '%Manager%';\n",
    "\"\"\"\n",
    "\n",
    "# Data inlezen in een DataFrame\n",
    "df_manager_sales = pd.read_sql_query(query, conn)\n",
    "\n",
    "# Verbinding sluiten\n",
    "conn.close()\n",
    "\n",
    "# Resultaten weergeven\n",
    "print(df_manager_sales)\n"
   ]
  },
  {
   "cell_type": "markdown",
   "metadata": {},
   "source": [
    "Geef een overzicht met daarin de verschillende namen van producten en bijbehorende namen van producttypen van de producten waarvoor ooit meer dan 750 stuks tegelijk verkocht zijn. (2 kolommen, 9 rijen) "
   ]
  },
  {
   "cell_type": "code",
   "execution_count": 22,
   "metadata": {},
   "outputs": [
    {
     "name": "stdout",
     "output_type": "stream",
     "text": [
      "            PRODUCT_NAME    PRODUCT_TYPE_EN\n",
      "0      BugShield Extreme  Insect Repellents\n",
      "1               Star Peg              Tents\n",
      "2  BugShield Lotion Lite  Insect Repellents\n",
      "3         Sun Shelter 15          Sunscreen\n",
      "4         Sun Shelter 30          Sunscreen\n",
      "5        BugShield Spray  Insect Repellents\n",
      "6              Firefly 2           Lanterns\n",
      "7       BugShield Lotion  Insect Repellents\n",
      "8             Sun Shield          Sunscreen\n"
     ]
    }
   ],
   "source": [
    "import sqlite3\n",
    "import pandas as pd\n",
    "\n",
    "# Databasepad instellen\n",
    "db_path = \"sqlite/go_sales_train.sqlite\"\n",
    "\n",
    "# Verbinding maken met de database\n",
    "conn = sqlite3.connect(db_path)\n",
    "\n",
    "# SQL-query uitvoeren\n",
    "query = \"\"\"\n",
    "SELECT DISTINCT p.PRODUCT_NAME, pt.PRODUCT_TYPE_EN\n",
    "FROM order_details od\n",
    "JOIN product p ON od.PRODUCT_NUMBER = p.PRODUCT_NUMBER\n",
    "JOIN product_type pt ON p.PRODUCT_TYPE_CODE = pt.PRODUCT_TYPE_CODE\n",
    "WHERE od.QUANTITY > 750;\n",
    "\"\"\"\n",
    "\n",
    "# Data inlezen in een DataFrame\n",
    "df_large_orders = pd.read_sql_query(query, conn)\n",
    "\n",
    "# Verbinding sluiten\n",
    "conn.close()\n",
    "\n",
    "# Resultaten weergeven\n",
    "print(df_large_orders)\n"
   ]
  },
  {
   "cell_type": "markdown",
   "metadata": {},
   "source": [
    "Geef een overzicht met daarin de productnamen waarvan ooit meer dan 40% korting is verleend. De formule voor korting is: (unit_price - unit_sale_price) / unit_price (1 kolom, 8 rijen) "
   ]
  },
  {
   "cell_type": "code",
   "execution_count": 23,
   "metadata": {},
   "outputs": [
    {
     "name": "stdout",
     "output_type": "stream",
     "text": [
      "                   PRODUCT_NAME\n",
      "0             BugShield Natural\n",
      "1               BugShield Spray\n",
      "2  Hailstorm Titanium Woods Set\n",
      "3         BugShield Lotion Lite\n",
      "4                Sun Shelter 30\n",
      "5             BugShield Extreme\n",
      "6                Sun Shelter 15\n",
      "7              BugShield Lotion\n"
     ]
    }
   ],
   "source": [
    "import sqlite3\n",
    "import pandas as pd\n",
    "\n",
    "# Databasepad instellen\n",
    "db_path = \"sqlite/go_sales_train.sqlite\"\n",
    "\n",
    "# Verbinding maken met de database\n",
    "conn = sqlite3.connect(db_path)\n",
    "\n",
    "# SQL-query uitvoeren\n",
    "query = \"\"\"\n",
    "SELECT DISTINCT p.PRODUCT_NAME\n",
    "FROM order_details od\n",
    "JOIN product p ON od.PRODUCT_NUMBER = p.PRODUCT_NUMBER\n",
    "WHERE (od.UNIT_PRICE - od.UNIT_SALE_PRICE) / od.UNIT_PRICE > 0.40;\n",
    "\"\"\"\n",
    "\n",
    "# Data inlezen in een DataFrame\n",
    "df_discounted_products = pd.read_sql_query(query, conn)\n",
    "\n",
    "# Verbinding sluiten\n",
    "conn.close()\n",
    "\n",
    "# Resultaten weergeven\n",
    "print(df_discounted_products)\n"
   ]
  },
  {
   "cell_type": "markdown",
   "metadata": {},
   "source": [
    "Geef een overzicht met daarin de retourreden van producten waarvan ooit meer dan 90% van de aangeschafte hoeveelheid is teruggebracht (return_quantity/quantity). (1 kolom, 3 rijen) "
   ]
  },
  {
   "cell_type": "code",
   "execution_count": 24,
   "metadata": {},
   "outputs": [
    {
     "name": "stdout",
     "output_type": "stream",
     "text": [
      "    RETURN_DESCRIPTION_EN\n",
      "0  Unsatisfactory product\n",
      "1   Wrong product shipped\n",
      "2   Wrong product ordered\n"
     ]
    }
   ],
   "source": [
    "import sqlite3\n",
    "import pandas as pd\n",
    "\n",
    "# Databasepad instellen\n",
    "db_path = \"sqlite/go_sales_train.sqlite\"\n",
    "\n",
    "# Verbinding maken met de database\n",
    "conn = sqlite3.connect(db_path)\n",
    "\n",
    "# SQL-query uitvoeren\n",
    "query = \"\"\"\n",
    "SELECT DISTINCT rr.RETURN_DESCRIPTION_EN\n",
    "FROM returned_item ri\n",
    "JOIN order_details od ON ri.ORDER_DETAIL_CODE = od.ORDER_DETAIL_CODE\n",
    "JOIN return_reason rr ON ri.RETURN_REASON_CODE = rr.RETURN_REASON_CODE\n",
    "WHERE (ri.RETURN_QUANTITY / od.QUANTITY) > 0.90;\n",
    "\"\"\"\n",
    "\n",
    "# Data inlezen in een DataFrame\n",
    "df_return_reasons = pd.read_sql_query(query, conn)\n",
    "\n",
    "# Verbinding sluiten\n",
    "conn.close()\n",
    "\n",
    "# Resultaten weergeven\n",
    "print(df_return_reasons)\n"
   ]
  },
  {
   "cell_type": "markdown",
   "metadata": {},
   "source": [
    "## Selecties op meerdere tabellen met functies"
   ]
  },
  {
   "cell_type": "markdown",
   "metadata": {},
   "source": [
    "Geef een overzicht met daarin per producttype het aantal producten die tot dat producttype behoren. (2 kolommen, 21 rijen) "
   ]
  },
  {
   "cell_type": "code",
   "execution_count": 25,
   "metadata": {},
   "outputs": [
    {
     "name": "stdout",
     "output_type": "stream",
     "text": [
      "         PRODUCT_TYPE_EN  PRODUCT_COUNT\n",
      "0             Binoculars              4\n",
      "1   Climbing Accessories              7\n",
      "2           Cooking Gear             10\n",
      "3                Eyewear              5\n",
      "4              First Aid              5\n",
      "5       Golf Accessories              4\n",
      "6      Insect Repellents              5\n",
      "7                  Irons              4\n",
      "8                 Knives              5\n",
      "9               Lanterns             12\n",
      "10            Navigation              4\n",
      "11                 Packs              6\n",
      "12               Putters              3\n",
      "13                  Rope              4\n",
      "14                Safety              4\n",
      "15         Sleeping Bags              7\n",
      "16             Sunscreen              5\n",
      "17                 Tents              6\n",
      "18                 Tools              6\n",
      "19               Watches              5\n",
      "20                 Woods              4\n"
     ]
    }
   ],
   "source": [
    "import sqlite3\n",
    "import pandas as pd\n",
    "\n",
    "# Databasepad instellen\n",
    "db_path = \"sqlite/go_sales_train.sqlite\"\n",
    "\n",
    "# Verbinding maken met de database\n",
    "conn = sqlite3.connect(db_path)\n",
    "\n",
    "# SQL-query uitvoeren\n",
    "query = \"\"\"\n",
    "SELECT pt.PRODUCT_TYPE_EN, COUNT(p.PRODUCT_NUMBER) AS PRODUCT_COUNT\n",
    "FROM product p\n",
    "JOIN product_type pt ON p.PRODUCT_TYPE_CODE = pt.PRODUCT_TYPE_CODE\n",
    "GROUP BY pt.PRODUCT_TYPE_EN;\n",
    "\"\"\"\n",
    "\n",
    "# Data inlezen in een DataFrame\n",
    "df_product_count = pd.read_sql_query(query, conn)\n",
    "\n",
    "# Verbinding sluiten\n",
    "conn.close()\n",
    "\n",
    "# Resultaten weergeven\n",
    "print(df_product_count)\n"
   ]
  },
  {
   "cell_type": "markdown",
   "metadata": {},
   "source": [
    "Geef een overzicht met daarin per land het aantal vestigingen van klanten die zich in dat land bevinden. (2 kolommen, 21 rijen) "
   ]
  },
  {
   "cell_type": "code",
   "execution_count": 26,
   "metadata": {},
   "outputs": [
    {
     "name": "stdout",
     "output_type": "stream",
     "text": [
      "           COUNTRY  TOTAL_SITES\n",
      "0        Australia           10\n",
      "1          Austria           10\n",
      "2          Belgium           10\n",
      "3           Brazil            1\n",
      "4           Canada           31\n",
      "5            China           10\n",
      "6          Denmark            6\n",
      "7          Finland            5\n",
      "8           France           29\n",
      "9          Germany           32\n",
      "10           Italy           12\n",
      "11           Japan           25\n",
      "12           Korea           10\n",
      "13          Mexico           10\n",
      "14     Netherlands           20\n",
      "15           Spain            9\n",
      "16          Sweden           12\n",
      "17     Switzerland           13\n",
      "18          Taiwan           10\n",
      "19  United Kingdom           25\n",
      "20   United States          101\n"
     ]
    }
   ],
   "source": [
    "import sqlite3\n",
    "import pandas as pd\n",
    "\n",
    "# Databasepad instellen\n",
    "db_path = \"sqlite/go_sales_train.sqlite\"\n",
    "\n",
    "# Verbinding maken met de database\n",
    "conn = sqlite3.connect(db_path)\n",
    "\n",
    "# SQL-query uitvoeren\n",
    "query = \"\"\"\n",
    "SELECT c.COUNTRY, COUNT(r.RETAILER_SITE_CODE) AS TOTAL_SITES\n",
    "FROM retailer_site r\n",
    "JOIN country c ON r.COUNTRY_CODE = c.COUNTRY_CODE\n",
    "GROUP BY c.COUNTRY;\n",
    "\"\"\"\n",
    "\n",
    "# Data inlezen in een DataFrame\n",
    "df_customer_sites = pd.read_sql_query(query, conn)\n",
    "\n",
    "# Verbinding sluiten\n",
    "conn.close()\n",
    "\n",
    "# Resultaten weergeven\n",
    "print(df_customer_sites)\n"
   ]
  },
  {
   "cell_type": "markdown",
   "metadata": {},
   "source": [
    "Geef een overzicht met daarin van de producten behorend tot het producttype ‘Cooking Gear’ per productnaam de totaal verkochte hoeveelheid en de gemiddelde verkoopprijs. Sorteer de uitkomst op totaal verkochte hoeveelheid. (4 kolommen, 10 rijen) "
   ]
  },
  {
   "cell_type": "code",
   "execution_count": 27,
   "metadata": {},
   "outputs": [
    {
     "name": "stdout",
     "output_type": "stream",
     "text": [
      "                PRODUCT_NAME PRODUCT_TYPE_EN  TOTAL_SOLD  AVG_SALE_PRICE\n",
      "0        TrailChef Water Bag    Cooking Gear       36738            6.03\n",
      "1              TrailChef Cup    Cooking Gear       27418            6.98\n",
      "2          TrailChef Canteen    Cooking Gear       26544           11.98\n",
      "3      TrailChef Kitchen Kit    Cooking Gear       22206           22.35\n",
      "4         TrailChef Utensils    Cooking Gear       13776           17.29\n",
      "5     TrailChef Double Flame    Cooking Gear       12476          132.67\n",
      "6         TrailChef Cook Set    Cooking Gear       10878           51.69\n",
      "7           TrailChef Kettle    Cooking Gear        8826           12.20\n",
      "8     TrailChef Single Flame    Cooking Gear        8504           63.83\n",
      "9  TrailChef Deluxe Cook Set    Cooking Gear        3110          121.22\n"
     ]
    }
   ],
   "source": [
    "import sqlite3\n",
    "import pandas as pd\n",
    "\n",
    "# Databasepad instellen\n",
    "db_path = \"sqlite/go_sales_train.sqlite\"\n",
    "\n",
    "# Verbinding maken met de database\n",
    "conn = sqlite3.connect(db_path)\n",
    "\n",
    "# SQL-query uitvoeren\n",
    "query = \"\"\"\n",
    "SELECT p.PRODUCT_NAME, pt.PRODUCT_TYPE_EN, \n",
    "       SUM(od.QUANTITY) AS TOTAL_SOLD, \n",
    "       ROUND(AVG(od.UNIT_SALE_PRICE), 2) AS AVG_SALE_PRICE\n",
    "FROM order_details od\n",
    "JOIN product p ON od.PRODUCT_NUMBER = p.PRODUCT_NUMBER\n",
    "JOIN product_type pt ON p.PRODUCT_TYPE_CODE = pt.PRODUCT_TYPE_CODE\n",
    "WHERE pt.PRODUCT_TYPE_EN = 'Cooking Gear'\n",
    "GROUP BY p.PRODUCT_NAME, pt.PRODUCT_TYPE_EN\n",
    "ORDER BY TOTAL_SOLD DESC;\n",
    "\"\"\"\n",
    "\n",
    "# Data inlezen in een DataFrame\n",
    "df_cooking_gear_sales = pd.read_sql_query(query, conn)\n",
    "\n",
    "# Verbinding sluiten\n",
    "conn.close()\n",
    "\n",
    "# Resultaten weergeven\n",
    "print(df_cooking_gear_sales)\n"
   ]
  },
  {
   "cell_type": "markdown",
   "metadata": {},
   "source": [
    "Geef een overzicht met daarin per land de naam van het land, de naam van de stad waar de verkoopafdeling is gevestigd (noem de kolomnaam in het overzicht ‘verkoper’) en het aantal steden waar zich klanten bevinden in dat land (noem de kolomnaam in het overzicht ‘klanten’) (3 kolommen, 29 rijen) "
   ]
  },
  {
   "cell_type": "code",
   "execution_count": 28,
   "metadata": {},
   "outputs": [
    {
     "name": "stdout",
     "output_type": "stream",
     "text": [
      "           COUNTRY          verkoper  klanten\n",
      "0        Australia         Melbourne        6\n",
      "1          Austria              Wien        9\n",
      "2          Belgium          Heverlee        8\n",
      "3           Brazil         São Paulo        1\n",
      "4           Canada           Calgary       16\n",
      "5           Canada           Toronto       16\n",
      "6            China          Shanghai        7\n",
      "7          Denmark              None        5\n",
      "8          Finland            Kuopio        5\n",
      "9           France              Lyon       14\n",
      "10          France             Paris       14\n",
      "11         Germany           Hamburg       18\n",
      "12         Germany           München       18\n",
      "13           Italy            Milano        9\n",
      "14           Japan        Osaka City        5\n",
      "15           Japan             Tokyo        5\n",
      "16           Korea             Seoul        6\n",
      "17          Mexico  Distrito Federal        6\n",
      "18     Netherlands         Amsterdam       15\n",
      "19           Spain            Bilbao        5\n",
      "20          Sweden             Kista       10\n",
      "21     Switzerland            Zürich        9\n",
      "22          Taiwan         San Chung        9\n",
      "23  United Kingdom        Birmingham        9\n",
      "24  United Kingdom            London        9\n",
      "25   United States            Boston       62\n",
      "26   United States       Los Angeles       62\n",
      "27   United States             Miami       62\n",
      "28   United States           Seattle       62\n"
     ]
    }
   ],
   "source": [
    "import sqlite3\n",
    "import pandas as pd\n",
    "\n",
    "# Databasepad instellen\n",
    "db_path = \"sqlite/go_sales_train.sqlite\"\n",
    "\n",
    "# Verbinding maken met de database\n",
    "conn = sqlite3.connect(db_path)\n",
    "\n",
    "# SQL-query uitvoeren\n",
    "query = \"\"\"\n",
    "SELECT c.COUNTRY, sb.CITY AS verkoper, COUNT(DISTINCT rs.CITY) AS klanten\n",
    "FROM country c\n",
    "LEFT JOIN sales_branch sb ON c.COUNTRY_CODE = sb.COUNTRY_CODE\n",
    "LEFT JOIN retailer_site rs ON c.COUNTRY_CODE = rs.COUNTRY_CODE\n",
    "GROUP BY c.COUNTRY, sb.CITY;\n",
    "\"\"\"\n",
    "\n",
    "# Data inlezen in een DataFrame\n",
    "df_country_sales = pd.read_sql_query(query, conn)\n",
    "\n",
    "# Verbinding sluiten\n",
    "conn.close()\n",
    "\n",
    "# Resultaten weergeven\n",
    "print(df_country_sales)\n"
   ]
  },
  {
   "cell_type": "markdown",
   "metadata": {},
   "source": [
    "## Pythonvertalingen van SUBSELECT en UNION met o.a. for-loops"
   ]
  },
  {
   "cell_type": "markdown",
   "metadata": {},
   "source": [
    "Geef een overzicht met daarin de voornaam en de achternaam van de medewerkers die nog nooit wat hebben verkocht (2 kolommen, 25 rijen) "
   ]
  },
  {
   "cell_type": "code",
   "execution_count": 29,
   "metadata": {},
   "outputs": [
    {
     "name": "stdout",
     "output_type": "stream",
     "text": [
      "   FIRST_NAME      LAST_NAME\n",
      "0       Denis           Pagé\n",
      "5        Else         Mörike\n",
      "6       Frank          Fuchs\n",
      "9       Fritz         Hirsch\n",
      "10       Jörg          Kunze\n",
      "12      Maria      Iacobucci\n",
      "17       Kick        Kalkman\n",
      "22      Karin      Bergström\n",
      "25      Sally          White\n",
      "27      Frank        Bretton\n",
      "28    Georges  Saint-Germain\n",
      "33       Alex      Rodriguez\n",
      "37   Samantha          Floyd\n",
      "41      Julie          Olsen\n",
      "45      Corey         Wright\n",
      "51    Estelle        Johnson\n",
      "52       Greg        Belding\n",
      "55      Julie        Béchard\n",
      "59      Lucía          Reyna\n",
      "64     Kazumi        Uragome\n",
      "66      Alice         Walter\n",
      "84     Walter         Taylor\n",
      "85   Penelope        Tamrine\n",
      "88      Polly         Linton\n",
      "96      Gracy        Gellens\n"
     ]
    }
   ],
   "source": [
    "import sqlite3\n",
    "import pandas as pd\n",
    "\n",
    "# Databasepad instellen\n",
    "db_path = \"sqlite/go_sales_train.sqlite\"\n",
    "\n",
    "# Verbinding maken met de database\n",
    "conn = sqlite3.connect(db_path)\n",
    "\n",
    "# Stap 1: Ophalen van alle medewerkers\n",
    "query_staff = \"SELECT SALES_STAFF_CODE, FIRST_NAME, LAST_NAME FROM sales_staff\"\n",
    "df_staff = pd.read_sql_query(query_staff, conn)\n",
    "\n",
    "# Stap 2: Ophalen van alle medewerkers die iets hebben verkocht\n",
    "query_sellers = \"SELECT DISTINCT SALES_STAFF_CODE FROM order_header\"\n",
    "df_sellers = pd.read_sql_query(query_sellers, conn)\n",
    "\n",
    "# Verbinding sluiten\n",
    "conn.close()\n",
    "\n",
    "# Stap 3: Medewerkers filteren die niet in de lijst van verkopers staan\n",
    "seller_codes = set(df_sellers[\"SALES_STAFF_CODE\"])\n",
    "staff_never_sold = [row for _, row in df_staff.iterrows() if row[\"SALES_STAFF_CODE\"] not in seller_codes]\n",
    "\n",
    "# Stap 4: DataFrame maken van medewerkers die nog nooit iets hebben verkocht\n",
    "df_never_sold = pd.DataFrame(staff_never_sold, columns=[\"FIRST_NAME\", \"LAST_NAME\"])\n",
    "\n",
    "# Resultaten weergeven\n",
    "print(df_never_sold)\n"
   ]
  },
  {
   "cell_type": "markdown",
   "metadata": {},
   "source": [
    "Geef een overzicht met daarin het aantal producten waarvan de marge lager is dan de gemiddelde marge van alle producten samen. Geef in het overzicht tevens aan wat de gemiddelde marge is van dit aantal producten waarvan de marge lager dan de gemiddelde marge van alle producten samen is. (1 kolom, 2 rijen) "
   ]
  },
  {
   "cell_type": "code",
   "execution_count": 30,
   "metadata": {},
   "outputs": [
    {
     "name": "stdout",
     "output_type": "stream",
     "text": [
      "   PRODUCT_COUNT  AVG_MARGIN_BELOW_AVERAGE\n",
      "0             59                      0.29\n"
     ]
    }
   ],
   "source": [
    "import sqlite3\n",
    "import pandas as pd\n",
    "\n",
    "# Databasepad instellen\n",
    "db_path = \"sqlite/go_sales_train.sqlite\"\n",
    "\n",
    "# Verbinding maken met de database\n",
    "conn = sqlite3.connect(db_path)\n",
    "\n",
    "# Stap 1: Ophalen van alle productmarges\n",
    "query = \"SELECT MARGIN FROM product\"\n",
    "df_products = pd.read_sql_query(query, conn)\n",
    "\n",
    "# Verbinding sluiten\n",
    "conn.close()\n",
    "\n",
    "# Stap 2: Bepaal de gemiddelde marge van alle producten\n",
    "average_margin = df_products[\"MARGIN\"].mean()\n",
    "\n",
    "# Stap 3: Filter producten waarvan de marge lager is dan het gemiddelde\n",
    "margins_below_avg = [margin for margin in df_products[\"MARGIN\"] if margin < average_margin]\n",
    "\n",
    "# Stap 4: Bepaal het aantal producten en de gemiddelde marge van deze subset\n",
    "product_count = len(margins_below_avg)\n",
    "avg_margin_below_avg = round(sum(margins_below_avg) / product_count, 2) if product_count > 0 else 0\n",
    "\n",
    "# Stap 5: Maak een DataFrame voor de output\n",
    "df_result = pd.DataFrame({\"PRODUCT_COUNT\": [product_count], \"AVG_MARGIN_BELOW_AVERAGE\": [avg_margin_below_avg]})\n",
    "\n",
    "# Resultaten weergeven\n",
    "print(df_result)\n"
   ]
  },
  {
   "cell_type": "markdown",
   "metadata": {},
   "source": [
    "Geef een overzicht met daarin de namen van de producten die voor meer dan 500 (verkoopprijs) zijn verkocht maar nooit zijn teruggebracht. (1 kolom, 13 rijen) "
   ]
  },
  {
   "cell_type": "code",
   "execution_count": 34,
   "metadata": {},
   "outputs": [
    {
     "name": "stdout",
     "output_type": "stream",
     "text": [
      "                PRODUCT_NAME\n",
      "9  Hailstorm Steel Woods Set\n"
     ]
    }
   ],
   "source": [
    "import sqlite3\n",
    "import pandas as pd\n",
    "\n",
    "# Databasepad instellen\n",
    "db_path = \"sqlite/go_sales_train.sqlite\"\n",
    "\n",
    "# Verbinding maken met de database\n",
    "conn = sqlite3.connect(db_path)\n",
    "\n",
    "# Stap 1: Ophalen van alle productverkopen boven de $500\n",
    "query_sales = \"\"\"\n",
    "SELECT DISTINCT p.PRODUCT_NUMBER, p.PRODUCT_NAME\n",
    "FROM order_details od\n",
    "JOIN product p ON od.PRODUCT_NUMBER = p.PRODUCT_NUMBER\n",
    "WHERE od.UNIT_SALE_PRICE > 500;\n",
    "\"\"\"\n",
    "df_sales = pd.read_sql_query(query_sales, conn)\n",
    "\n",
    "# Stap 2: Ophalen van producten die ooit zijn teruggebracht\n",
    "query_returns = \"\"\"\n",
    "SELECT DISTINCT od.PRODUCT_NUMBER\n",
    "FROM returned_item ri\n",
    "JOIN order_details od ON ri.ORDER_DETAIL_CODE = od.ORDER_DETAIL_CODE\n",
    "\"\"\"\n",
    "df_returns = pd.read_sql_query(query_returns, conn)\n",
    "\n",
    "# Verbinding sluiten\n",
    "conn.close()\n",
    "\n",
    "# Stap 3: Maak een set van teruggebrachte producten\n",
    "returned_products = set(df_returns[\"PRODUCT_NUMBER\"])\n",
    "\n",
    "# Stap 4: Filter de producten die niet in de retourlijst staan\n",
    "products_never_returned = [\n",
    "    row for _, row in df_sales.iterrows() if row[\"PRODUCT_NUMBER\"] not in returned_products\n",
    "]\n",
    "\n",
    "# Stap 5: Maak een DataFrame met alleen de productnamen\n",
    "df_result = pd.DataFrame(products_never_returned, columns=[\"PRODUCT_NAME\"])\n",
    "\n",
    "# Resultaten weergeven\n",
    "print(df_result)\n"
   ]
  },
  {
   "cell_type": "markdown",
   "metadata": {},
   "source": [
    "Geef een overzicht met daarin per (achternaam van) medewerker of hij/zij manager is of niet, door deze informatie toe te voegen als extra 'Ja/Nee'-kolom.<br>\n",
    "Hint: gebruik een for-loop waarin je o.a. bepaalt of het woord 'Manager' in de functie (position_en) staat. (2 kolommen, 102 rijen)."
   ]
  },
  {
   "cell_type": "code",
   "execution_count": 35,
   "metadata": {},
   "outputs": [
    {
     "name": "stdout",
     "output_type": "stream",
     "text": [
      "     LAST_NAME IS_MANAGER\n",
      "0         Pagé         Ja\n",
      "1       Michel        Nee\n",
      "2     Clermont        Nee\n",
      "3       Jauvin        Nee\n",
      "4    Wiesinger        Nee\n",
      "..         ...        ...\n",
      "97    Laermans        Nee\n",
      "98     De Crée        Nee\n",
      "99     Lattrez        Nee\n",
      "100  Seefelder        Nee\n",
      "101     Grüner        Nee\n",
      "\n",
      "[102 rows x 2 columns]\n"
     ]
    }
   ],
   "source": [
    "import sqlite3\n",
    "import pandas as pd\n",
    "\n",
    "# Databasepad instellen\n",
    "db_path = \"sqlite/go_sales_train.sqlite\"\n",
    "\n",
    "# Verbinding maken met de database\n",
    "conn = sqlite3.connect(db_path)\n",
    "\n",
    "# Stap 1: Ophalen van alle medewerkers en hun functies\n",
    "query = \"SELECT LAST_NAME, POSITION_EN FROM sales_staff\"\n",
    "df_staff = pd.read_sql_query(query, conn)\n",
    "\n",
    "# Verbinding sluiten\n",
    "conn.close()\n",
    "\n",
    "# Stap 2: For-loop om te bepalen of de medewerker een manager is\n",
    "df_staff[\"IS_MANAGER\"] = [\"Ja\" if \"Manager\" in position else \"Nee\" for position in df_staff[\"POSITION_EN\"]]\n",
    "\n",
    "# Stap 3: Selecteer alleen de relevante kolommen\n",
    "df_result = df_staff[[\"LAST_NAME\", \"IS_MANAGER\"]]\n",
    "\n",
    "# Resultaten weergeven\n",
    "print(df_result)\n"
   ]
  },
  {
   "cell_type": "markdown",
   "metadata": {},
   "source": [
    "Met de onderstaande code laat je Python het huidige jaar uitrekenen."
   ]
  },
  {
   "cell_type": "code",
   "execution_count": 1,
   "metadata": {},
   "outputs": [
    {
     "data": {
      "text/plain": [
       "2024"
      ]
     },
     "execution_count": 1,
     "metadata": {},
     "output_type": "execute_result"
    }
   ],
   "source": [
    "from datetime import date\n",
    "date.today().year"
   ]
  },
  {
   "cell_type": "markdown",
   "metadata": {},
   "source": [
    "Met de onderstaande code selecteer je op een bepaald jaartal uit een datum."
   ]
  },
  {
   "cell_type": "code",
   "execution_count": 2,
   "metadata": {},
   "outputs": [
    {
     "data": {
      "text/plain": [
       "2013"
      ]
     },
     "execution_count": 2,
     "metadata": {},
     "output_type": "execute_result"
    }
   ],
   "source": [
    "from datetime import datetime\n",
    "\n",
    "date_str = '16-8-2013'\n",
    "date_format = '%d-%m-%Y'\n",
    "date_obj = datetime.strptime(date_str, date_format)\n",
    "\n",
    "date_obj.year"
   ]
  },
  {
   "cell_type": "markdown",
   "metadata": {},
   "source": [
    "Geef met behulp van bovenstaande hulpcode een overzicht met daarin op basis van het aantal jaar dat iemand in dienst is of een medewerker ‘kort in dienst’ (minder dan 25 jaar in dienst) of een ‘lang in dienst’ (groter gelijk dan 12 jaar in dienst) is. Geef daarbij per medewerker in een aparte kolom zowel ‘kort in dienst’ als ‘lang in dienst’ aan. Gebruik (wederom) een for-loop.<br>\n",
    "(2 kolommen, 102 rijen) "
   ]
  },
  {
   "cell_type": "code",
   "execution_count": 36,
   "metadata": {},
   "outputs": [
    {
     "name": "stdout",
     "output_type": "stream",
     "text": [
      "     LAST_NAME Kort in dienst Lang in dienst\n",
      "0         Pagé            Nee             Ja\n",
      "1       Michel            Nee             Ja\n",
      "2     Clermont            Nee             Ja\n",
      "3       Jauvin            Nee             Ja\n",
      "4    Wiesinger            Nee             Ja\n",
      "..         ...            ...            ...\n",
      "97    Laermans            Nee             Ja\n",
      "98     De Crée            Nee             Ja\n",
      "99     Lattrez            Nee             Ja\n",
      "100  Seefelder            Nee             Ja\n",
      "101     Grüner            Nee             Ja\n",
      "\n",
      "[102 rows x 3 columns]\n"
     ]
    }
   ],
   "source": [
    "import sqlite3\n",
    "import pandas as pd\n",
    "from datetime import date, datetime\n",
    "\n",
    "# Databasepad instellen\n",
    "db_path = \"sqlite/go_sales_train.sqlite\"\n",
    "\n",
    "# Verbinding maken met de database\n",
    "conn = sqlite3.connect(db_path)\n",
    "\n",
    "# Stap 1: Ophalen van alle medewerkers en hun datum van indiensttreding\n",
    "query = \"SELECT LAST_NAME, DATE_HIRED FROM sales_staff\"\n",
    "df_staff = pd.read_sql_query(query, conn)\n",
    "\n",
    "# Verbinding sluiten\n",
    "conn.close()\n",
    "\n",
    "# Stap 2: Huidig jaar bepalen\n",
    "current_year = date.today().year\n",
    "\n",
    "# Stap 3: For-loop om de diensttijd te berekenen en de kolommen 'Kort in dienst' en 'Lang in dienst' toe te voegen\n",
    "kort_in_dienst = []\n",
    "lang_in_dienst = []\n",
    "\n",
    "for index, row in df_staff.iterrows():\n",
    "    # Convert datum naar jaartal\n",
    "    if row[\"DATE_HIRED\"]:\n",
    "        hire_year = datetime.strptime(row[\"DATE_HIRED\"], \"%Y-%m-%d\").year\n",
    "        years_in_service = current_year - hire_year\n",
    "    else:\n",
    "        years_in_service = 0  # Als er geen datum is, zet het op 0\n",
    "\n",
    "    # Bepalen of de medewerker kort/lang in dienst is\n",
    "    kort_in_dienst.append(\"Ja\" if years_in_service < 25 else \"Nee\")\n",
    "    lang_in_dienst.append(\"Ja\" if years_in_service >= 12 else \"Nee\")\n",
    "\n",
    "# Stap 4: Kolommen toevoegen aan DataFrame\n",
    "df_staff[\"Kort in dienst\"] = kort_in_dienst\n",
    "df_staff[\"Lang in dienst\"] = lang_in_dienst\n",
    "\n",
    "# Stap 5: Alleen relevante kolommen selecteren\n",
    "df_result = df_staff[[\"LAST_NAME\", \"Kort in dienst\", \"Lang in dienst\"]]\n",
    "\n",
    "# Resultaten weergeven\n",
    "print(df_result)\n"
   ]
  },
  {
   "cell_type": "markdown",
   "metadata": {},
   "source": [
    "## Van Jupyter Notebook naar Pythonproject"
   ]
  },
  {
   "cell_type": "markdown",
   "metadata": {},
   "source": [
    "1. Richt de map waarin jullie tot nu toe hebben gewerkt in volgens de mappenstructuur uit de slides.\n",
    "2. Maak van de ontstane mappenstructuur een Pythonproject dat uitvoerbaar is vanuit de terminal. Maak daarin een .py-bestand dat minstens 5 antwoorden uit dit notebook (in de vorm van een DataFrame) exporteert naar Excelbestanden. Alle notebooks mogen als notebook blijven bestaan.\n",
    "3. Zorg ervoor dat dit Pythonproject zijn eigen repo heeft op Github. Let op: je virtual environment moet <b><u>niet</u></b> meegaan naar Github.\n",
    "\n",
    "Je mag tijdens dit proces je uit stap 1 ontstane mappenstructuur aanpassen, zolang je bij het beoordelingsmoment kan verantwoorden wat de motivatie hierachter is. De slides verplichten je dus nergens toe."
   ]
  }
 ],
 "metadata": {
  "kernelspec": {
   "display_name": ".venv",
   "language": "python",
   "name": "python3"
  },
  "language_info": {
   "codemirror_mode": {
    "name": "ipython",
    "version": 3
   },
   "file_extension": ".py",
   "mimetype": "text/x-python",
   "name": "python",
   "nbconvert_exporter": "python",
   "pygments_lexer": "ipython3",
   "version": "3.12.6"
  }
 },
 "nbformat": 4,
 "nbformat_minor": 2
}
